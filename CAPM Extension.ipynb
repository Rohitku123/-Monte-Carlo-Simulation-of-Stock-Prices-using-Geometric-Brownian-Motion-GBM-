{
 "cells": [
  {
   "cell_type": "markdown",
   "id": "d63e1189",
   "metadata": {},
   "source": [
    "## **Market Portfolio**\n",
    "\n",
    "Imagine a “super-portfolio” containing all assets in the world (stocks, bonds, etc.).\n",
    "\n",
    "It is perfectly diversified → no company-specific risk left.\n",
    "\n",
    "The only risk investors face = **systematic risk (market risk).**\n",
    "\n",
    "\n",
    "This portfolio lies on the Efficient Frontier, and in fact, it’s the most efficient."
   ]
  },
  {
   "cell_type": "markdown",
   "id": "c553177c",
   "metadata": {},
   "source": [
    "**Risk-Free Asset**\n",
    "\n",
    "Sharpe introduced the idea of a risk-free investment:\n",
    "\n",
    "Zero risk (std dev = 0)\n",
    "\n",
    "Small, guaranteed positive return (like a government T-bill).\n",
    "\n",
    "Because markets are efficient → risk-free asset has low return, since no risk = no extra reward."
   ]
  },
  {
   "cell_type": "markdown",
   "id": "7529ff34",
   "metadata": {},
   "source": [
    "**Capital Market Line (CML)**\n",
    "\n",
    "Combine the **risk-free asset** with the **market portfolio.**\n",
    "\n",
    "This creates a straight line:\n",
    "\n",
    "\\\\[\n",
    "E(R_p) = R_f + \\frac{E(R_m) - R_f}{\\sigma_m} \\cdot \\sigma_p\n",
    "\\\\]\n"
   ]
  },
  {
   "cell_type": "markdown",
   "id": "c6d2dd24",
   "metadata": {},
   "source": [
    "#### CAPM Formula (Security Market Line – SML)\n",
    "\n",
    "Expected return of a single asset 𝑖;\n",
    "\n",
    "\\\\[\n",
    "E(R_i) = R_f + \\beta_i \\left(E(R_m) - R_f\\right)\n",
    "\\\\]\n",
    "\n",
    "Where;\n",
    "\n",
    "\\\\[\n",
    "\\beta_i = \\frac{\\text{Cov}(R_i, R_m)}{\\sigma_m^2}\n",
    "\\\\]\n",
    "\n",
    "**Beta (𝛽)** is a measure of a stock’s sensitivity to the overall market. It tells you how much a stock moves in relation to the market portfolio.\n",
    "\n",
    "I have the **CML (portfolios)** and **SML (individual assets)**, which are the backbone of CAPM."
   ]
  },
  {
   "cell_type": "markdown",
   "id": "53eb3eea",
   "metadata": {},
   "source": [
    "**Investor Choices**\n",
    "\n",
    "**Risk-averse investor →** invest more in risk-free asset, less in market portfolio.\n",
    "\n",
    "**Risk-tolerant investor →** invest more in market portfolio, less in risk-free asset.\n",
    "\n",
    "**Aggressive investor →** borrow at risk-free rate and invest more than 100% in the market portfolio (leveraging).\n",
    "\n",
    "This way, **all investors, regardless of risk appetite, end up somewhere on the CML**, not inside the Efficient Frontier. That’s why CAPM simplified portfolio choice."
   ]
  },
  {
   "cell_type": "markdown",
   "id": "fc69c44b",
   "metadata": {},
   "source": [
    "## The Big Shift:\n",
    "\n",
    "**Markowitz:** Investors pick from many efficient portfolios on the curve.\n",
    "\n",
    "**Sharpe (CAPM):** Everyone just needs the Market Portfolio + Risk-Free Asset. The rest is adjusting proportions based on risk tolerance."
   ]
  },
  {
   "cell_type": "code",
   "execution_count": 4,
   "id": "325c6d82",
   "metadata": {},
   "outputs": [
    {
     "name": "stderr",
     "output_type": "stream",
     "text": [
      "C:\\Users\\Rohit Kumar\\AppData\\Local\\Temp\\ipykernel_20468\\1339237065.py:7: FutureWarning: YF.download() has changed argument auto_adjust default to True\n",
      "  data = yf.download(assets, start=\"2010-01-01\")[\"Close\"]\n",
      "[*********************100%***********************]  2 of 2 completed\n"
     ]
    }
   ],
   "source": [
    "import numpy as np\n",
    "import pandas as pd\n",
    "from pandas_datareader import data as wb\n",
    "import yfinance as yf\n",
    "assets = ['PG', '^GSPC']\n",
    "data = pd.DataFrame()\n",
    "data = yf.download(assets, start=\"2010-01-01\")[\"Close\"]"
   ]
  },
  {
   "cell_type": "code",
   "execution_count": 12,
   "id": "34b462eb",
   "metadata": {},
   "outputs": [
    {
     "data": {
      "text/html": [
       "<div>\n",
       "<style scoped>\n",
       "    .dataframe tbody tr th:only-of-type {\n",
       "        vertical-align: middle;\n",
       "    }\n",
       "\n",
       "    .dataframe tbody tr th {\n",
       "        vertical-align: top;\n",
       "    }\n",
       "\n",
       "    .dataframe thead th {\n",
       "        text-align: right;\n",
       "    }\n",
       "</style>\n",
       "<table border=\"1\" class=\"dataframe\">\n",
       "  <thead>\n",
       "    <tr style=\"text-align: right;\">\n",
       "      <th>Ticker</th>\n",
       "      <th>PG</th>\n",
       "      <th>^GSPC</th>\n",
       "    </tr>\n",
       "    <tr>\n",
       "      <th>Date</th>\n",
       "      <th></th>\n",
       "      <th></th>\n",
       "    </tr>\n",
       "  </thead>\n",
       "  <tbody>\n",
       "    <tr>\n",
       "      <th>2025-08-25</th>\n",
       "      <td>156.149994</td>\n",
       "      <td>6439.319824</td>\n",
       "    </tr>\n",
       "    <tr>\n",
       "      <th>2025-08-26</th>\n",
       "      <td>155.970001</td>\n",
       "      <td>6465.939941</td>\n",
       "    </tr>\n",
       "    <tr>\n",
       "      <th>2025-08-27</th>\n",
       "      <td>156.960007</td>\n",
       "      <td>6481.399902</td>\n",
       "    </tr>\n",
       "    <tr>\n",
       "      <th>2025-08-28</th>\n",
       "      <td>155.649994</td>\n",
       "      <td>6501.859863</td>\n",
       "    </tr>\n",
       "    <tr>\n",
       "      <th>2025-08-29</th>\n",
       "      <td>157.039993</td>\n",
       "      <td>6460.259766</td>\n",
       "    </tr>\n",
       "  </tbody>\n",
       "</table>\n",
       "</div>"
      ],
      "text/plain": [
       "Ticker              PG        ^GSPC\n",
       "Date                               \n",
       "2025-08-25  156.149994  6439.319824\n",
       "2025-08-26  155.970001  6465.939941\n",
       "2025-08-27  156.960007  6481.399902\n",
       "2025-08-28  155.649994  6501.859863\n",
       "2025-08-29  157.039993  6460.259766"
      ]
     },
     "execution_count": 12,
     "metadata": {},
     "output_type": "execute_result"
    }
   ],
   "source": [
    "data.tail()"
   ]
  },
  {
   "cell_type": "code",
   "execution_count": 5,
   "id": "183c99a6",
   "metadata": {},
   "outputs": [],
   "source": [
    "sec_returns = np.log( data / data.shift(1))"
   ]
  },
  {
   "cell_type": "code",
   "execution_count": 6,
   "id": "0851424d",
   "metadata": {},
   "outputs": [
    {
     "data": {
      "text/html": [
       "<div>\n",
       "<style scoped>\n",
       "    .dataframe tbody tr th:only-of-type {\n",
       "        vertical-align: middle;\n",
       "    }\n",
       "\n",
       "    .dataframe tbody tr th {\n",
       "        vertical-align: top;\n",
       "    }\n",
       "\n",
       "    .dataframe thead th {\n",
       "        text-align: right;\n",
       "    }\n",
       "</style>\n",
       "<table border=\"1\" class=\"dataframe\">\n",
       "  <thead>\n",
       "    <tr style=\"text-align: right;\">\n",
       "      <th>Ticker</th>\n",
       "      <th>PG</th>\n",
       "      <th>^GSPC</th>\n",
       "    </tr>\n",
       "    <tr>\n",
       "      <th>Ticker</th>\n",
       "      <th></th>\n",
       "      <th></th>\n",
       "    </tr>\n",
       "  </thead>\n",
       "  <tbody>\n",
       "    <tr>\n",
       "      <th>PG</th>\n",
       "      <td>0.029421</td>\n",
       "      <td>0.015503</td>\n",
       "    </tr>\n",
       "    <tr>\n",
       "      <th>^GSPC</th>\n",
       "      <td>0.015503</td>\n",
       "      <td>0.030298</td>\n",
       "    </tr>\n",
       "  </tbody>\n",
       "</table>\n",
       "</div>"
      ],
      "text/plain": [
       "Ticker        PG     ^GSPC\n",
       "Ticker                    \n",
       "PG      0.029421  0.015503\n",
       "^GSPC   0.015503  0.030298"
      ]
     },
     "execution_count": 6,
     "metadata": {},
     "output_type": "execute_result"
    }
   ],
   "source": [
    "cov = sec_returns.cov() * 250\n",
    "cov"
   ]
  },
  {
   "cell_type": "code",
   "execution_count": 7,
   "id": "282a6732",
   "metadata": {},
   "outputs": [
    {
     "data": {
      "text/plain": [
       "0.015503438719701753"
      ]
     },
     "execution_count": 7,
     "metadata": {},
     "output_type": "execute_result"
    }
   ],
   "source": [
    "cov_with_market = cov.iloc[0,1]\n",
    "cov_with_market"
   ]
  },
  {
   "cell_type": "code",
   "execution_count": 8,
   "id": "470efdd0",
   "metadata": {},
   "outputs": [
    {
     "data": {
      "text/plain": [
       "0.03029824206788995"
      ]
     },
     "execution_count": 8,
     "metadata": {},
     "output_type": "execute_result"
    }
   ],
   "source": [
    "market_var = sec_returns['^GSPC'].var() * 250\n",
    "market_var"
   ]
  },
  {
   "cell_type": "markdown",
   "id": "f970d1a2",
   "metadata": {},
   "source": [
    "** Beta: **\n",
    "### $$ \n",
    "\\beta_{pg} = \\frac{\\sigma_{pg,m}}{\\sigma_{m}^2}\n",
    "$$"
   ]
  },
  {
   "cell_type": "code",
   "execution_count": 9,
   "id": "4deefdca",
   "metadata": {},
   "outputs": [
    {
     "data": {
      "text/plain": [
       "0.5116943314718673"
      ]
     },
     "execution_count": 9,
     "metadata": {},
     "output_type": "execute_result"
    }
   ],
   "source": [
    "PG_beta = cov_with_market / market_var\n",
    "PG_beta"
   ]
  },
  {
   "cell_type": "markdown",
   "id": "e2159b5d",
   "metadata": {},
   "source": [
    "#### I Validated the Result\n",
    "\n",
    "Check against Google Finance or other financial platforms.\n",
    "\n",
    "Small differences (2–3%) are acceptable due to different data sources or calculation methods."
   ]
  },
  {
   "cell_type": "markdown",
   "id": "923e99c9",
   "metadata": {},
   "source": [
    "**Calculate the expected return of P&G (CAPM):**\n",
    "### $$\n",
    "\\overline{r_{pg}} = r_f + \\beta_{pg}(\\overline{r_{m}} - r_f) \n",
    "$$"
   ]
  },
  {
   "cell_type": "markdown",
   "id": "b2b51180",
   "metadata": {},
   "source": [
    "### Interpretation\n",
    "\n",
    "Risk-free rate 𝑅𝑓:\n",
    "\n",
    "    Minimum return an investor expects.\n",
    "\n",
    "Typically approximated by 10-year government bond yield"
   ]
  },
  {
   "cell_type": "markdown",
   "id": "9480bbcd",
   "metadata": {},
   "source": [
    "### Expected return:\n",
    "\n",
    "Sum of the risk-free return + risk premium adjusted by beta.\n",
    "\n",
    "CAPM provides a simple, elegant framework to estimate expected returns.\n",
    "\n",
    "The expected return depends only on the risk-free rate, beta, and market premium.\n",
    "\n",
    "It is widely used in finance for:\n",
    "\n",
    "Portfolio management\n",
    "\n",
    "Stock valuation\n",
    "\n",
    "Risk-adjusted performance analysis"
   ]
  },
  {
   "cell_type": "markdown",
   "id": "4bd31c8a",
   "metadata": {},
   "source": [
    "\\\\[\n",
    "E(R_i) = R_f + \\beta_i \\cdot (E(R_m) - R_f)\n",
    "\\\\]\n",
    "\n",
    "Risk free rate took from bloomberg 10year treasery Bond\n",
    "\\\\[\n",
    "E(R_{\\text{PG}}) = 0.025 + \\beta_{\\text{PG}} \\cdot 0.05\n",
    "\\\\]\n"
   ]
  },
  {
   "cell_type": "code",
   "execution_count": null,
   "id": "14ee7d94",
   "metadata": {},
   "outputs": [],
   "source": []
  },
  {
   "cell_type": "code",
   "execution_count": 10,
   "id": "4e09a7c8",
   "metadata": {},
   "outputs": [
    {
     "data": {
      "text/plain": [
       "0.05058471657359337"
      ]
     },
     "execution_count": 10,
     "metadata": {},
     "output_type": "execute_result"
    }
   ],
   "source": [
    "PG_er = 0.025 + PG_beta * 0.05\n",
    "PG_er"
   ]
  },
  {
   "cell_type": "markdown",
   "id": "330557c8",
   "metadata": {},
   "source": [
    "### Interpretation:\n",
    "If an investor buys P&G, they should expect ~5.6% return, compensating for its market risk."
   ]
  },
  {
   "cell_type": "markdown",
   "id": "279f327a",
   "metadata": {},
   "source": [
    "### The Problem\n",
    "\n",
    "Investors want two things at the same time:\n",
    "\n",
    "**High returns –** they want their money to grow.\n",
    "\n",
    "**Low risk –** they want to avoid big losses.\n",
    "\n",
    "Since these two goals often conflict, we need a single metric that combines them to compare investments fairly.\n",
    "\n",
    "**Enter the Sharpe Ratio**\n",
    "\n",
    "The Sharpe ratio measures risk-adjusted return. It tells you how much return an investment gives per unit of risk **(Volatality or standard Deviation)**\n",
    "\n"
   ]
  },
  {
   "cell_type": "markdown",
   "id": "3fd1797f",
   "metadata": {},
   "source": [
    "**Sharpe ratio:**\n",
    "### $$\n",
    "Sharpe = \\frac{\\overline{r_{pg}} - r_f}{\\sigma_{pg}}\n",
    "$$"
   ]
  },
  {
   "cell_type": "markdown",
   "id": "6ccd9e5b",
   "metadata": {},
   "source": [
    "## Practical Use\n",
    "1.Compare stocks, funds, or portfolios on a risk-adjusted basis.\n",
    "\n",
    "2.Avoid being misled by high returns that come from taking excessive risk.\n",
    "\n",
    "3.Useful for evaluating investment fund performance, ensuring returns aren’t just due to high-risk strategies."
   ]
  },
  {
   "cell_type": "code",
   "execution_count": 11,
   "id": "39a114a4",
   "metadata": {},
   "outputs": [
    {
     "data": {
      "text/plain": [
       "0.14916103366804087"
      ]
     },
     "execution_count": 11,
     "metadata": {},
     "output_type": "execute_result"
    }
   ],
   "source": [
    "Sharpe = (PG_er - 0.025) / (sec_returns['PG'].std() * 250 ** 0.5)\n",
    "Sharpe"
   ]
  },
  {
   "cell_type": "markdown",
   "id": "a34f7292",
   "metadata": {},
   "source": [
    "#### What is Alpha?\n",
    "\n",
    "  Alpha is the intercept of the Capital Asset Pricing Model (CAPM).\n",
    "\n",
    "    It measures the excess return of an investment beyond what is expected given its risk (beta)."
   ]
  },
  {
   "cell_type": "markdown",
   "id": "fc49a514",
   "metadata": {},
   "source": [
    "#### Alpha & Fund Managers\n",
    "\n",
    " Alpha is often used to evaluate fund managers.\n",
    "\n",
    "    A good manager tries to achieve a high positive alpha by picking winning stocks or employing strategies that outperform the market"
   ]
  },
  {
   "cell_type": "markdown",
   "id": "8993e5ac",
   "metadata": {},
   "source": [
    "#### Alpha & Fund Managers\n",
    "\n",
    "Alpha is often used to evaluate fund managers.\n",
    "\n",
    "    A good manager tries to achieve a high positive alpha by picking winning stocks or employing strategies that outperform the market"
   ]
  }
 ],
 "metadata": {
  "kernelspec": {
   "display_name": "Python 3 (ipykernel)",
   "language": "python",
   "name": "python3"
  },
  "language_info": {
   "codemirror_mode": {
    "name": "ipython",
    "version": 3
   },
   "file_extension": ".py",
   "mimetype": "text/x-python",
   "name": "python",
   "nbconvert_exporter": "python",
   "pygments_lexer": "ipython3",
   "version": "3.11.5"
  }
 },
 "nbformat": 4,
 "nbformat_minor": 5
}
