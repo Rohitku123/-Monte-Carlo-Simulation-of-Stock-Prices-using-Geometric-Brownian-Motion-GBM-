{
 "cells": [
  {
   "cell_type": "code",
   "execution_count": null,
   "id": "f22c84d0",
   "metadata": {},
   "outputs": [],
   "source": []
  },
  {
   "cell_type": "code",
   "execution_count": 1,
   "id": "54b75a1c",
   "metadata": {
    "scrolled": false
   },
   "outputs": [],
   "source": [
    "from pandas_datareader import data as wb\n",
    "import pandas as pd"
   ]
  },
  {
   "cell_type": "code",
   "execution_count": 2,
   "id": "8ff1d820",
   "metadata": {},
   "outputs": [
    {
     "name": "stderr",
     "output_type": "stream",
     "text": [
      "C:\\Users\\Rohit Kumar\\AppData\\Local\\Temp\\ipykernel_24472\\2076658738.py:10: FutureWarning: YF.download() has changed argument auto_adjust default to True\n",
      "  data = yf.download(ticker, start=start, end=end)\n",
      "[*********************100%***********************]  1 of 1 completed\n"
     ]
    }
   ],
   "source": [
    "import yfinance as yf\n",
    "import numpy as np\n",
    "import matplotlib.pyplot as plt\n",
    "\n",
    "# Fetch historical data\n",
    "ticker = \"AAPL\"\n",
    "start = \"2000-01-01\"\n",
    "end = \"2025-08-30\"\n",
    "\n",
    "data = yf.download(ticker, start=start, end=end)"
   ]
  },
  {
   "cell_type": "markdown",
   "id": "9cc4896c",
   "metadata": {},
   "source": [
    "Apply the .**head()** and **.tail()** methods to check if the data is ok. Always pay attention to the dates. Try to get an idea about how the stock price changed during the period."
   ]
  },
  {
   "cell_type": "code",
   "execution_count": 3,
   "id": "3323e675",
   "metadata": {},
   "outputs": [
    {
     "data": {
      "text/html": [
       "<div>\n",
       "<style scoped>\n",
       "    .dataframe tbody tr th:only-of-type {\n",
       "        vertical-align: middle;\n",
       "    }\n",
       "\n",
       "    .dataframe tbody tr th {\n",
       "        vertical-align: top;\n",
       "    }\n",
       "\n",
       "    .dataframe thead tr th {\n",
       "        text-align: left;\n",
       "    }\n",
       "\n",
       "    .dataframe thead tr:last-of-type th {\n",
       "        text-align: right;\n",
       "    }\n",
       "</style>\n",
       "<table border=\"1\" class=\"dataframe\">\n",
       "  <thead>\n",
       "    <tr>\n",
       "      <th>Price</th>\n",
       "      <th>Close</th>\n",
       "      <th>High</th>\n",
       "      <th>Low</th>\n",
       "      <th>Open</th>\n",
       "      <th>Volume</th>\n",
       "    </tr>\n",
       "    <tr>\n",
       "      <th>Ticker</th>\n",
       "      <th>AAPL</th>\n",
       "      <th>AAPL</th>\n",
       "      <th>AAPL</th>\n",
       "      <th>AAPL</th>\n",
       "      <th>AAPL</th>\n",
       "    </tr>\n",
       "    <tr>\n",
       "      <th>Date</th>\n",
       "      <th></th>\n",
       "      <th></th>\n",
       "      <th></th>\n",
       "      <th></th>\n",
       "      <th></th>\n",
       "    </tr>\n",
       "  </thead>\n",
       "  <tbody>\n",
       "    <tr>\n",
       "      <th>2000-01-03</th>\n",
       "      <td>0.840094</td>\n",
       "      <td>0.844316</td>\n",
       "      <td>0.763168</td>\n",
       "      <td>0.787090</td>\n",
       "      <td>535796800</td>\n",
       "    </tr>\n",
       "    <tr>\n",
       "      <th>2000-01-04</th>\n",
       "      <td>0.769266</td>\n",
       "      <td>0.830244</td>\n",
       "      <td>0.759415</td>\n",
       "      <td>0.812419</td>\n",
       "      <td>512377600</td>\n",
       "    </tr>\n",
       "    <tr>\n",
       "      <th>2000-01-05</th>\n",
       "      <td>0.780523</td>\n",
       "      <td>0.829775</td>\n",
       "      <td>0.773018</td>\n",
       "      <td>0.778646</td>\n",
       "      <td>778321600</td>\n",
       "    </tr>\n",
       "    <tr>\n",
       "      <th>2000-01-06</th>\n",
       "      <td>0.712977</td>\n",
       "      <td>0.803038</td>\n",
       "      <td>0.712977</td>\n",
       "      <td>0.796471</td>\n",
       "      <td>767972800</td>\n",
       "    </tr>\n",
       "    <tr>\n",
       "      <th>2000-01-07</th>\n",
       "      <td>0.746750</td>\n",
       "      <td>0.758008</td>\n",
       "      <td>0.716731</td>\n",
       "      <td>0.724235</td>\n",
       "      <td>460734400</td>\n",
       "    </tr>\n",
       "  </tbody>\n",
       "</table>\n",
       "</div>"
      ],
      "text/plain": [
       "Price          Close      High       Low      Open     Volume\n",
       "Ticker          AAPL      AAPL      AAPL      AAPL       AAPL\n",
       "Date                                                         \n",
       "2000-01-03  0.840094  0.844316  0.763168  0.787090  535796800\n",
       "2000-01-04  0.769266  0.830244  0.759415  0.812419  512377600\n",
       "2000-01-05  0.780523  0.829775  0.773018  0.778646  778321600\n",
       "2000-01-06  0.712977  0.803038  0.712977  0.796471  767972800\n",
       "2000-01-07  0.746750  0.758008  0.716731  0.724235  460734400"
      ]
     },
     "execution_count": 3,
     "metadata": {},
     "output_type": "execute_result"
    }
   ],
   "source": [
    "data.head()"
   ]
  },
  {
   "cell_type": "code",
   "execution_count": 4,
   "id": "0f637236",
   "metadata": {},
   "outputs": [
    {
     "data": {
      "text/html": [
       "<div>\n",
       "<style scoped>\n",
       "    .dataframe tbody tr th:only-of-type {\n",
       "        vertical-align: middle;\n",
       "    }\n",
       "\n",
       "    .dataframe tbody tr th {\n",
       "        vertical-align: top;\n",
       "    }\n",
       "\n",
       "    .dataframe thead tr th {\n",
       "        text-align: left;\n",
       "    }\n",
       "\n",
       "    .dataframe thead tr:last-of-type th {\n",
       "        text-align: right;\n",
       "    }\n",
       "</style>\n",
       "<table border=\"1\" class=\"dataframe\">\n",
       "  <thead>\n",
       "    <tr>\n",
       "      <th>Price</th>\n",
       "      <th>Close</th>\n",
       "      <th>High</th>\n",
       "      <th>Low</th>\n",
       "      <th>Open</th>\n",
       "      <th>Volume</th>\n",
       "    </tr>\n",
       "    <tr>\n",
       "      <th>Ticker</th>\n",
       "      <th>AAPL</th>\n",
       "      <th>AAPL</th>\n",
       "      <th>AAPL</th>\n",
       "      <th>AAPL</th>\n",
       "      <th>AAPL</th>\n",
       "    </tr>\n",
       "    <tr>\n",
       "      <th>Date</th>\n",
       "      <th></th>\n",
       "      <th></th>\n",
       "      <th></th>\n",
       "      <th></th>\n",
       "      <th></th>\n",
       "    </tr>\n",
       "  </thead>\n",
       "  <tbody>\n",
       "    <tr>\n",
       "      <th>2025-08-25</th>\n",
       "      <td>227.160004</td>\n",
       "      <td>229.300003</td>\n",
       "      <td>226.229996</td>\n",
       "      <td>226.479996</td>\n",
       "      <td>30983100</td>\n",
       "    </tr>\n",
       "    <tr>\n",
       "      <th>2025-08-26</th>\n",
       "      <td>229.309998</td>\n",
       "      <td>229.490005</td>\n",
       "      <td>224.690002</td>\n",
       "      <td>226.869995</td>\n",
       "      <td>54575100</td>\n",
       "    </tr>\n",
       "    <tr>\n",
       "      <th>2025-08-27</th>\n",
       "      <td>230.490005</td>\n",
       "      <td>230.899994</td>\n",
       "      <td>228.259995</td>\n",
       "      <td>228.610001</td>\n",
       "      <td>31259500</td>\n",
       "    </tr>\n",
       "    <tr>\n",
       "      <th>2025-08-28</th>\n",
       "      <td>232.559998</td>\n",
       "      <td>233.410004</td>\n",
       "      <td>229.339996</td>\n",
       "      <td>230.820007</td>\n",
       "      <td>38074700</td>\n",
       "    </tr>\n",
       "    <tr>\n",
       "      <th>2025-08-29</th>\n",
       "      <td>232.139999</td>\n",
       "      <td>233.380005</td>\n",
       "      <td>231.369995</td>\n",
       "      <td>232.509995</td>\n",
       "      <td>39389400</td>\n",
       "    </tr>\n",
       "  </tbody>\n",
       "</table>\n",
       "</div>"
      ],
      "text/plain": [
       "Price            Close        High         Low        Open    Volume\n",
       "Ticker            AAPL        AAPL        AAPL        AAPL      AAPL\n",
       "Date                                                                \n",
       "2025-08-25  227.160004  229.300003  226.229996  226.479996  30983100\n",
       "2025-08-26  229.309998  229.490005  224.690002  226.869995  54575100\n",
       "2025-08-27  230.490005  230.899994  228.259995  228.610001  31259500\n",
       "2025-08-28  232.559998  233.410004  229.339996  230.820007  38074700\n",
       "2025-08-29  232.139999  233.380005  231.369995  232.509995  39389400"
      ]
     },
     "execution_count": 4,
     "metadata": {},
     "output_type": "execute_result"
    }
   ],
   "source": [
    "data.tail()"
   ]
  },
  {
   "cell_type": "markdown",
   "id": "d1bd7cc5",
   "metadata": {},
   "source": [
    "### Simple Rate of Return"
   ]
  },
  {
   "cell_type": "markdown",
   "id": "dd0e33c3",
   "metadata": {},
   "source": [
    "Calculate the simple returns of ‘AAPL’ for the given timeframe.\n",
    "$$\n",
    "\\frac{P_1 - P_0}{P_0} = \\frac{P_1}{P_0} - 1\n",
    "$$"
   ]
  },
  {
   "cell_type": "code",
   "execution_count": 5,
   "id": "b651ccbb",
   "metadata": {},
   "outputs": [
    {
     "name": "stdout",
     "output_type": "stream",
     "text": [
      "Date\n",
      "2000-01-03         NaN\n",
      "2000-01-04   -0.084310\n",
      "2000-01-05    0.014633\n",
      "2000-01-06   -0.086538\n",
      "2000-01-07    0.047369\n",
      "                ...   \n",
      "2025-08-25   -0.002634\n",
      "2025-08-26    0.009465\n",
      "2025-08-27    0.005146\n",
      "2025-08-28    0.008981\n",
      "2025-08-29   -0.001806\n",
      "Name: simple_return, Length: 6454, dtype: float64\n"
     ]
    }
   ],
   "source": [
    "data['simple_return'] = (data['Close'] / data['Close'].shift(1)) - 1\n",
    "print(data['simple_return'])"
   ]
  },
  {
   "cell_type": "code",
   "execution_count": 6,
   "id": "b5a22942",
   "metadata": {},
   "outputs": [
    {
     "data": {
      "image/png": "[encoded data removed]",
      "text/plain": [
       "<Figure size 800x500 with 1 Axes>"
      ]
     },
     "metadata": {},
     "output_type": "display_data"
    }
   ],
   "source": [
    "data['simple_return'].plot(figsize=(8, 5))\n",
    "plt.show()"
   ]
  },
  {
   "cell_type": "markdown",
   "id": "854d2ee6",
   "metadata": {},
   "source": [
    "## Interpreting the graph\n",
    "\n",
    "The plot is not a smooth line, but jumps up and down (since returns are percentage changes each day).\n",
    "\n",
    "You’ll notice:\n",
    "\n",
    "Many small fluctuations (typically within ±1%).\n",
    "\n",
    "Occasional large negative spikes (big drops, sometimes −20% or −50%).\n",
    "\n",
    "This matches a well-known fact in finance:\n",
    "\n",
    "Positive returns tend to be smaller and accumulate gradually over time.\n",
    "\n",
    "Negative returns can be sudden and much larger (market crashes, earnings shocks, crises)."
   ]
  },
  {
   "cell_type": "markdown",
   "id": "258421c3",
   "metadata": {},
   "source": [
    "### 1. Calculating the mean daily return\n",
    "\n",
    "Now we move from visualization to a summary statistic."
   ]
  },
  {
   "cell_type": "code",
   "execution_count": 7,
   "id": "4a49c675",
   "metadata": {},
   "outputs": [
    {
     "data": {
      "text/plain": [
       "0.001180526758456278"
      ]
     },
     "execution_count": 7,
     "metadata": {},
     "output_type": "execute_result"
    }
   ],
   "source": [
    "avg_returns_d = data['simple_return'].mean()\n",
    "avg_returns_d"
   ]
  },
  {
   "cell_type": "markdown",
   "id": "1d690057",
   "metadata": {},
   "source": [
    "This number is small (well under 1%).\n",
    "\n",
    "Example: ~0.0004 → that’s 0.04% average daily return.\n",
    "\n",
    "Alone, this isn’t very intuitive. So we need to scale it to annual terms."
   ]
  },
  {
   "cell_type": "markdown",
   "id": "3a6702ae",
   "metadata": {},
   "source": [
    "### 2. Converting daily to annual return\n",
    "\n",
    "We assume about 252 trading days per year (excluding weekends and holidays).\n",
    "\n",
    "\n",
    "\n",
    "Annual Return\n",
    "≈\n",
    "Mean Daily Return\n",
    "×\n",
    "252\n",
    "Annual Return≈Mean Daily Return×252"
   ]
  },
  {
   "cell_type": "code",
   "execution_count": 8,
   "id": "a2c192f4",
   "metadata": {},
   "outputs": [
    {
     "data": {
      "text/plain": [
       "0.29749274313098206"
      ]
     },
     "execution_count": 8,
     "metadata": {},
     "output_type": "execute_result"
    }
   ],
   "source": [
    "avg_returns_a = data['simple_return'].mean() * 252\n",
    "avg_returns_a"
   ]
  },
  {
   "cell_type": "markdown",
   "id": "2d860271",
   "metadata": {},
   "source": [
    "### 3.Making the result more presentable\n",
    "\n",
    "We can format it as a percentage string:"
   ]
  },
  {
   "cell_type": "code",
   "execution_count": 9,
   "id": "f1b5ee77",
   "metadata": {},
   "outputs": [
    {
     "name": "stdout",
     "output_type": "stream",
     "text": [
      "avg_returns_a: 29.75%\n"
     ]
    }
   ],
   "source": [
    "formatted_return = str(round(avg_returns_a*100, 2)) + \"%\"\n",
    "print(\"avg_returns_a:\", formatted_return)"
   ]
  },
  {
   "cell_type": "markdown",
   "id": "0ff9e0d3",
   "metadata": {},
   "source": [
    "Average Annual Return: 29.76%”"
   ]
  },
  {
   "cell_type": "markdown",
   "id": "c5d70845",
   "metadata": {},
   "source": [
    "### Now I extending what I did with simple returns to logarithmic returns (log returns)."
   ]
  },
  {
   "cell_type": "markdown",
   "id": "81fb76b9",
   "metadata": {},
   "source": [
    "#### Why two types of returns?\n",
    "\n",
    "Simple returns are intuitive (profit ÷ investment).\n",
    "\n",
    "Log returns are mathematically convenient because:\n",
    "\n",
    "    1.They can be easily added over time (time additivity).\n",
    "\n",
    "    2.They work well for modeling prices using continuous compounding.\n",
    "\n",
    "     Rule of thumb:\n",
    "\n",
    "    1.Use simple returns when comparing multiple assets over the same time frame.\n",
    "\n",
    "    2.Use log returns when studying one asset over long time periods."
   ]
  },
  {
   "cell_type": "markdown",
   "id": "647c2141",
   "metadata": {},
   "source": [
    "## Formula for log returns\n",
    "For day \n",
    "𝑡\n",
    "t:\n",
    "$$\n",
    "ln(\\frac{P_t}{P_{t-1}})\n",
    "$$"
   ]
  },
  {
   "cell_type": "code",
   "execution_count": 10,
   "id": "3700368e",
   "metadata": {},
   "outputs": [
    {
     "data": {
      "text/html": [
       "<div>\n",
       "<style scoped>\n",
       "    .dataframe tbody tr th:only-of-type {\n",
       "        vertical-align: middle;\n",
       "    }\n",
       "\n",
       "    .dataframe tbody tr th {\n",
       "        vertical-align: top;\n",
       "    }\n",
       "\n",
       "    .dataframe thead tr th {\n",
       "        text-align: left;\n",
       "    }\n",
       "\n",
       "    .dataframe thead tr:last-of-type th {\n",
       "        text-align: right;\n",
       "    }\n",
       "</style>\n",
       "<table border=\"1\" class=\"dataframe\">\n",
       "  <thead>\n",
       "    <tr>\n",
       "      <th>Price</th>\n",
       "      <th>Close</th>\n",
       "      <th>High</th>\n",
       "      <th>Low</th>\n",
       "      <th>Open</th>\n",
       "      <th>Volume</th>\n",
       "      <th>simple_return</th>\n",
       "    </tr>\n",
       "    <tr>\n",
       "      <th>Ticker</th>\n",
       "      <th>AAPL</th>\n",
       "      <th>AAPL</th>\n",
       "      <th>AAPL</th>\n",
       "      <th>AAPL</th>\n",
       "      <th>AAPL</th>\n",
       "      <th></th>\n",
       "    </tr>\n",
       "    <tr>\n",
       "      <th>Date</th>\n",
       "      <th></th>\n",
       "      <th></th>\n",
       "      <th></th>\n",
       "      <th></th>\n",
       "      <th></th>\n",
       "      <th></th>\n",
       "    </tr>\n",
       "  </thead>\n",
       "  <tbody>\n",
       "    <tr>\n",
       "      <th>2000-01-03</th>\n",
       "      <td>0.840094</td>\n",
       "      <td>0.844316</td>\n",
       "      <td>0.763168</td>\n",
       "      <td>0.787090</td>\n",
       "      <td>535796800</td>\n",
       "      <td>NaN</td>\n",
       "    </tr>\n",
       "    <tr>\n",
       "      <th>2000-01-04</th>\n",
       "      <td>0.769266</td>\n",
       "      <td>0.830244</td>\n",
       "      <td>0.759415</td>\n",
       "      <td>0.812419</td>\n",
       "      <td>512377600</td>\n",
       "      <td>-0.084310</td>\n",
       "    </tr>\n",
       "    <tr>\n",
       "      <th>2000-01-05</th>\n",
       "      <td>0.780523</td>\n",
       "      <td>0.829775</td>\n",
       "      <td>0.773018</td>\n",
       "      <td>0.778646</td>\n",
       "      <td>778321600</td>\n",
       "      <td>0.014633</td>\n",
       "    </tr>\n",
       "    <tr>\n",
       "      <th>2000-01-06</th>\n",
       "      <td>0.712977</td>\n",
       "      <td>0.803038</td>\n",
       "      <td>0.712977</td>\n",
       "      <td>0.796471</td>\n",
       "      <td>767972800</td>\n",
       "      <td>-0.086538</td>\n",
       "    </tr>\n",
       "    <tr>\n",
       "      <th>2000-01-07</th>\n",
       "      <td>0.746750</td>\n",
       "      <td>0.758008</td>\n",
       "      <td>0.716731</td>\n",
       "      <td>0.724235</td>\n",
       "      <td>460734400</td>\n",
       "      <td>0.047369</td>\n",
       "    </tr>\n",
       "  </tbody>\n",
       "</table>\n",
       "</div>"
      ],
      "text/plain": [
       "Price          Close      High       Low      Open     Volume simple_return\n",
       "Ticker          AAPL      AAPL      AAPL      AAPL       AAPL              \n",
       "Date                                                                       \n",
       "2000-01-03  0.840094  0.844316  0.763168  0.787090  535796800           NaN\n",
       "2000-01-04  0.769266  0.830244  0.759415  0.812419  512377600     -0.084310\n",
       "2000-01-05  0.780523  0.829775  0.773018  0.778646  778321600      0.014633\n",
       "2000-01-06  0.712977  0.803038  0.712977  0.796471  767972800     -0.086538\n",
       "2000-01-07  0.746750  0.758008  0.716731  0.724235  460734400      0.047369"
      ]
     },
     "execution_count": 10,
     "metadata": {},
     "output_type": "execute_result"
    }
   ],
   "source": [
    "data.head()"
   ]
  },
  {
   "cell_type": "markdown",
   "id": "1c75ba8d",
   "metadata": {},
   "source": [
    "## What is vectorization (NumPy advantage)?\n",
    "\n",
    "Normally in Python, we might write a loop:\n",
    "\n",
    "    returns = []\n",
    "    for i in range(1, len(prices)):\n",
    "        r = np.log(prices[i] / prices[i-1])\n",
    "        returns.append(r)\n",
    "    \n",
    "    This works, but it’s slow and messy.\n",
    "\n",
    "    With NumPy/pandas (vectorization), I can do the whole thing in one line:\n",
    "    \n",
    "    Like - df[\"Log Return\"] = np.log(df[\"Adj Close\"] / df[\"Adj Close\"].shift(1))\n"
   ]
  },
  {
   "cell_type": "code",
   "execution_count": 11,
   "id": "544c8265",
   "metadata": {},
   "outputs": [
    {
     "name": "stdout",
     "output_type": "stream",
     "text": [
      "Price          Close simple_return log_return\n",
      "Ticker          AAPL                         \n",
      "Date                                         \n",
      "2000-01-03  0.840094           NaN        NaN\n",
      "2000-01-04  0.769266     -0.084310  -0.088078\n",
      "2000-01-05  0.780523      0.014633   0.014527\n",
      "2000-01-06  0.712977     -0.086538  -0.090514\n",
      "2000-01-07  0.746750      0.047369   0.046281\n"
     ]
    }
   ],
   "source": [
    "\n",
    "# Create new column for log returns\n",
    "data[\"log_return\"] = np.log(data[\"Close\"] / data[\"Close\"].shift(1))\n",
    "\n",
    "# Preview first few rows\n",
    "print(data[[\"Close\", \"simple_return\", \"log_return\"]].head())\n"
   ]
  },
  {
   "cell_type": "markdown",
   "id": "2d8b4a63",
   "metadata": {},
   "source": [
    "   **np.log() → natural log**\n",
    "\n",
    "   **.shift(1) →** lags the series by 1 trading day means- line up each day’s data with yesterday’s value"
   ]
  },
  {
   "cell_type": "code",
   "execution_count": 12,
   "id": "693c0a2a",
   "metadata": {},
   "outputs": [
    {
     "data": {
      "text/html": [
       "<div>\n",
       "<style scoped>\n",
       "    .dataframe tbody tr th:only-of-type {\n",
       "        vertical-align: middle;\n",
       "    }\n",
       "\n",
       "    .dataframe tbody tr th {\n",
       "        vertical-align: top;\n",
       "    }\n",
       "\n",
       "    .dataframe thead tr th {\n",
       "        text-align: left;\n",
       "    }\n",
       "\n",
       "    .dataframe thead tr:last-of-type th {\n",
       "        text-align: right;\n",
       "    }\n",
       "</style>\n",
       "<table border=\"1\" class=\"dataframe\">\n",
       "  <thead>\n",
       "    <tr>\n",
       "      <th>Price</th>\n",
       "      <th>Close</th>\n",
       "      <th>High</th>\n",
       "      <th>Low</th>\n",
       "      <th>Open</th>\n",
       "      <th>Volume</th>\n",
       "      <th>simple_return</th>\n",
       "      <th>log_return</th>\n",
       "    </tr>\n",
       "    <tr>\n",
       "      <th>Ticker</th>\n",
       "      <th>AAPL</th>\n",
       "      <th>AAPL</th>\n",
       "      <th>AAPL</th>\n",
       "      <th>AAPL</th>\n",
       "      <th>AAPL</th>\n",
       "      <th></th>\n",
       "      <th></th>\n",
       "    </tr>\n",
       "    <tr>\n",
       "      <th>Date</th>\n",
       "      <th></th>\n",
       "      <th></th>\n",
       "      <th></th>\n",
       "      <th></th>\n",
       "      <th></th>\n",
       "      <th></th>\n",
       "      <th></th>\n",
       "    </tr>\n",
       "  </thead>\n",
       "  <tbody>\n",
       "    <tr>\n",
       "      <th>2000-01-03</th>\n",
       "      <td>0.840094</td>\n",
       "      <td>0.844316</td>\n",
       "      <td>0.763168</td>\n",
       "      <td>0.787090</td>\n",
       "      <td>535796800</td>\n",
       "      <td>NaN</td>\n",
       "      <td>NaN</td>\n",
       "    </tr>\n",
       "    <tr>\n",
       "      <th>2000-01-04</th>\n",
       "      <td>0.769266</td>\n",
       "      <td>0.830244</td>\n",
       "      <td>0.759415</td>\n",
       "      <td>0.812419</td>\n",
       "      <td>512377600</td>\n",
       "      <td>-0.084310</td>\n",
       "      <td>-0.088078</td>\n",
       "    </tr>\n",
       "    <tr>\n",
       "      <th>2000-01-05</th>\n",
       "      <td>0.780523</td>\n",
       "      <td>0.829775</td>\n",
       "      <td>0.773018</td>\n",
       "      <td>0.778646</td>\n",
       "      <td>778321600</td>\n",
       "      <td>0.014633</td>\n",
       "      <td>0.014527</td>\n",
       "    </tr>\n",
       "    <tr>\n",
       "      <th>2000-01-06</th>\n",
       "      <td>0.712977</td>\n",
       "      <td>0.803038</td>\n",
       "      <td>0.712977</td>\n",
       "      <td>0.796471</td>\n",
       "      <td>767972800</td>\n",
       "      <td>-0.086538</td>\n",
       "      <td>-0.090514</td>\n",
       "    </tr>\n",
       "    <tr>\n",
       "      <th>2000-01-07</th>\n",
       "      <td>0.746750</td>\n",
       "      <td>0.758008</td>\n",
       "      <td>0.716731</td>\n",
       "      <td>0.724235</td>\n",
       "      <td>460734400</td>\n",
       "      <td>0.047369</td>\n",
       "      <td>0.046281</td>\n",
       "    </tr>\n",
       "  </tbody>\n",
       "</table>\n",
       "</div>"
      ],
      "text/plain": [
       "Price          Close      High       Low      Open     Volume simple_return  \\\n",
       "Ticker          AAPL      AAPL      AAPL      AAPL       AAPL                 \n",
       "Date                                                                          \n",
       "2000-01-03  0.840094  0.844316  0.763168  0.787090  535796800           NaN   \n",
       "2000-01-04  0.769266  0.830244  0.759415  0.812419  512377600     -0.084310   \n",
       "2000-01-05  0.780523  0.829775  0.773018  0.778646  778321600      0.014633   \n",
       "2000-01-06  0.712977  0.803038  0.712977  0.796471  767972800     -0.086538   \n",
       "2000-01-07  0.746750  0.758008  0.716731  0.724235  460734400      0.047369   \n",
       "\n",
       "Price      log_return  \n",
       "Ticker                 \n",
       "Date                   \n",
       "2000-01-03        NaN  \n",
       "2000-01-04  -0.088078  \n",
       "2000-01-05   0.014527  \n",
       "2000-01-06  -0.090514  \n",
       "2000-01-07   0.046281  "
      ]
     },
     "execution_count": 12,
     "metadata": {},
     "output_type": "execute_result"
    }
   ],
   "source": [
    "data.head()"
   ]
  },
  {
   "cell_type": "code",
   "execution_count": 13,
   "id": "ef06b601",
   "metadata": {},
   "outputs": [
    {
     "data": {
      "text/html": [
       "<div>\n",
       "<style scoped>\n",
       "    .dataframe tbody tr th:only-of-type {\n",
       "        vertical-align: middle;\n",
       "    }\n",
       "\n",
       "    .dataframe tbody tr th {\n",
       "        vertical-align: top;\n",
       "    }\n",
       "\n",
       "    .dataframe thead tr th {\n",
       "        text-align: left;\n",
       "    }\n",
       "\n",
       "    .dataframe thead tr:last-of-type th {\n",
       "        text-align: right;\n",
       "    }\n",
       "</style>\n",
       "<table border=\"1\" class=\"dataframe\">\n",
       "  <thead>\n",
       "    <tr>\n",
       "      <th>Price</th>\n",
       "      <th>log_return</th>\n",
       "    </tr>\n",
       "    <tr>\n",
       "      <th>Ticker</th>\n",
       "      <th></th>\n",
       "    </tr>\n",
       "    <tr>\n",
       "      <th>Date</th>\n",
       "      <th></th>\n",
       "    </tr>\n",
       "  </thead>\n",
       "  <tbody>\n",
       "    <tr>\n",
       "      <th>2000-01-03</th>\n",
       "      <td>NaN</td>\n",
       "    </tr>\n",
       "    <tr>\n",
       "      <th>2000-01-04</th>\n",
       "      <td>-0.088078</td>\n",
       "    </tr>\n",
       "    <tr>\n",
       "      <th>2000-01-05</th>\n",
       "      <td>0.014527</td>\n",
       "    </tr>\n",
       "    <tr>\n",
       "      <th>2000-01-06</th>\n",
       "      <td>-0.090514</td>\n",
       "    </tr>\n",
       "    <tr>\n",
       "      <th>2000-01-07</th>\n",
       "      <td>0.046281</td>\n",
       "    </tr>\n",
       "    <tr>\n",
       "      <th>...</th>\n",
       "      <td>...</td>\n",
       "    </tr>\n",
       "    <tr>\n",
       "      <th>2025-08-25</th>\n",
       "      <td>-0.002638</td>\n",
       "    </tr>\n",
       "    <tr>\n",
       "      <th>2025-08-26</th>\n",
       "      <td>0.009420</td>\n",
       "    </tr>\n",
       "    <tr>\n",
       "      <th>2025-08-27</th>\n",
       "      <td>0.005133</td>\n",
       "    </tr>\n",
       "    <tr>\n",
       "      <th>2025-08-28</th>\n",
       "      <td>0.008941</td>\n",
       "    </tr>\n",
       "    <tr>\n",
       "      <th>2025-08-29</th>\n",
       "      <td>-0.001808</td>\n",
       "    </tr>\n",
       "  </tbody>\n",
       "</table>\n",
       "<p>6454 rows × 1 columns</p>\n",
       "</div>"
      ],
      "text/plain": [
       "Price      log_return\n",
       "Ticker               \n",
       "Date                 \n",
       "2000-01-03        NaN\n",
       "2000-01-04  -0.088078\n",
       "2000-01-05   0.014527\n",
       "2000-01-06  -0.090514\n",
       "2000-01-07   0.046281\n",
       "...               ...\n",
       "2025-08-25  -0.002638\n",
       "2025-08-26   0.009420\n",
       "2025-08-27   0.005133\n",
       "2025-08-28   0.008941\n",
       "2025-08-29  -0.001808\n",
       "\n",
       "[6454 rows x 1 columns]"
      ]
     },
     "execution_count": 13,
     "metadata": {},
     "output_type": "execute_result"
    }
   ],
   "source": [
    "data[[\"log_return\"]]"
   ]
  },
  {
   "cell_type": "markdown",
   "id": "1c5b8518",
   "metadata": {},
   "source": [
    "First row will again be NaN (since there’s no previous price on Jan 3, 2000)."
   ]
  },
  {
   "cell_type": "markdown",
   "id": "44de6a07",
   "metadata": {},
   "source": [
    "#### Why use log returns when analyzing one stock over time?\n",
    "\n",
    "Time additivity: log returns sum neatly across periods."
   ]
  },
  {
   "cell_type": "markdown",
   "id": "1d1cb359",
   "metadata": {},
   "source": [
    "#### Why is the average log return smaller than the average simple return?\n",
    "\n",
    "    This is because of volatility.\n",
    "\n",
    "Imagine two days:\n",
    "\n",
    "Day 1: +50% (stock goes up)\n",
    "\n",
    "Day 2: -50% (stock goes down)\n",
    "\n",
    "Simple average = +50.\n",
    " Looks like you broke even.\n",
    "\n",
    "    But actually:\n",
    "        Start with $100 → $150 → $75. You lost money!\n",
    "\n",
    "Log returns capture this reality. They give a smaller average return because they account for the fact that ups and downs don’t cancel out perfectly (this is called volatility drag)."
   ]
  },
  {
   "cell_type": "markdown",
   "id": "58918a7b",
   "metadata": {},
   "source": [
    "#### Similarly as i calculated for Simple Reture I will calculate for Log return"
   ]
  },
  {
   "cell_type": "code",
   "execution_count": 14,
   "id": "bfcd20a7",
   "metadata": {
    "scrolled": true
   },
   "outputs": [
    {
     "data": {
      "image/png": "[encoded data removed]",
      "text/plain": [
       "<Figure size 800x500 with 1 Axes>"
      ]
     },
     "metadata": {},
     "output_type": "display_data"
    }
   ],
   "source": [
    "data['log_return'].plot(figsize=(8, 5))\n",
    "plt.show()"
   ]
  },
  {
   "cell_type": "markdown",
   "id": "5e491559",
   "metadata": {},
   "source": [
    "### Interpretation "
   ]
  },
  {
   "cell_type": "markdown",
   "id": "e7c5ac68",
   "metadata": {},
   "source": [
    "   **1.The Dot-com Bubble Burst (Early 2000s):** The sharpest and most dramatic downward spike on the chart occurs around the year 2002. This likely represents the collapse of the dot-com bubble, which began in March 2000 and continued into 2002.\n",
    "\n",
    "  **2.The 2008 Global Financial Crisis:** The next period of high volatility, characterized by a substantial drop, occurs around 2008.\n",
    "\n",
    "   **3.The COVID-19 Pandemic (2020):** The graph shows a sudden, sharp V-shaped drop and quick recovery around the year 2020\n",
    "    \n",
    "   **4.Us Tariff**  impact showing in this plot - Recent in 2025 U.S. tariffs implemented in 2025 om many countries and their expected impact on the economy."
   ]
  },
  {
   "cell_type": "code",
   "execution_count": 15,
   "id": "f88e230d",
   "metadata": {},
   "outputs": [
    {
     "data": {
      "text/plain": [
       "0.0008711578587726554"
      ]
     },
     "execution_count": 15,
     "metadata": {},
     "output_type": "execute_result"
    }
   ],
   "source": [
    "log_return_d = data['log_return'].mean()\n",
    "log_return_d"
   ]
  },
  {
   "cell_type": "code",
   "execution_count": 16,
   "id": "d37f4c68",
   "metadata": {},
   "outputs": [
    {
     "data": {
      "text/plain": [
       "0.21778946469316385"
      ]
     },
     "execution_count": 16,
     "metadata": {},
     "output_type": "execute_result"
    }
   ],
   "source": [
    "log_return_a = data['log_return'].mean() * 250\n",
    "log_return_a"
   ]
  },
  {
   "cell_type": "code",
   "execution_count": 17,
   "id": "e4204e82",
   "metadata": {},
   "outputs": [
    {
     "name": "stdout",
     "output_type": "stream",
     "text": [
      "21.779 %\n"
     ]
    }
   ],
   "source": [
    "print(str(round(log_return_a, 5) * 100) + ' %')"
   ]
  },
  {
   "cell_type": "markdown",
   "id": "9a5cd5a8",
   "metadata": {},
   "source": [
    "## Calculating the Return of a Portfolio of Securities"
   ]
  },
  {
   "cell_type": "markdown",
   "id": "bbdda2a6",
   "metadata": {},
   "source": [
    "    I selected Procter & Gamble (PG), Microsoft (MSFT), Ford (F), and General Electric (GE) because each represents a different sector of the U.S. economy—consumer staples, technology, automotive, and industrial manufacturing. \n",
    "         This gives us a broad perspective on how tariffs affect multiple industries"
   ]
  },
  {
   "cell_type": "markdown",
   "id": "0c0aaf35",
   "metadata": {},
   "source": [
    "##### Together, they validate how tariffs affect consumer spending, tech supply chains, autos, and industrial strategy."
   ]
  },
  {
   "cell_type": "code",
   "execution_count": null,
   "id": "b6d45aa5",
   "metadata": {},
   "outputs": [],
   "source": []
  },
  {
   "cell_type": "code",
   "execution_count": 18,
   "id": "d1b98a1c",
   "metadata": {},
   "outputs": [
    {
     "name": "stderr",
     "output_type": "stream",
     "text": [
      "[*********************100%***********************]  4 of 4 completed\n"
     ]
    },
    {
     "data": {
      "text/html": [
       "<div>\n",
       "<style scoped>\n",
       "    .dataframe tbody tr th:only-of-type {\n",
       "        vertical-align: middle;\n",
       "    }\n",
       "\n",
       "    .dataframe tbody tr th {\n",
       "        vertical-align: top;\n",
       "    }\n",
       "\n",
       "    .dataframe thead th {\n",
       "        text-align: right;\n",
       "    }\n",
       "</style>\n",
       "<table border=\"1\" class=\"dataframe\">\n",
       "  <thead>\n",
       "    <tr style=\"text-align: right;\">\n",
       "      <th>Ticker</th>\n",
       "      <th>F</th>\n",
       "      <th>GE</th>\n",
       "      <th>MSFT</th>\n",
       "      <th>PG</th>\n",
       "    </tr>\n",
       "    <tr>\n",
       "      <th>Date</th>\n",
       "      <th></th>\n",
       "      <th></th>\n",
       "      <th></th>\n",
       "      <th></th>\n",
       "    </tr>\n",
       "  </thead>\n",
       "  <tbody>\n",
       "    <tr>\n",
       "      <th>2000-01-03</th>\n",
       "      <td>11.617765</td>\n",
       "      <td>129.933243</td>\n",
       "      <td>35.668083</td>\n",
       "      <td>27.213198</td>\n",
       "    </tr>\n",
       "    <tr>\n",
       "      <th>2000-01-04</th>\n",
       "      <td>11.229582</td>\n",
       "      <td>124.735893</td>\n",
       "      <td>34.463215</td>\n",
       "      <td>26.689560</td>\n",
       "    </tr>\n",
       "    <tr>\n",
       "      <th>2000-01-05</th>\n",
       "      <td>11.271176</td>\n",
       "      <td>124.519424</td>\n",
       "      <td>34.826561</td>\n",
       "      <td>26.181784</td>\n",
       "    </tr>\n",
       "    <tr>\n",
       "      <th>2000-01-06</th>\n",
       "      <td>11.285037</td>\n",
       "      <td>126.184174</td>\n",
       "      <td>33.659962</td>\n",
       "      <td>27.387745</td>\n",
       "    </tr>\n",
       "    <tr>\n",
       "      <th>2000-01-07</th>\n",
       "      <td>12.116858</td>\n",
       "      <td>131.070160</td>\n",
       "      <td>34.099831</td>\n",
       "      <td>29.577490</td>\n",
       "    </tr>\n",
       "  </tbody>\n",
       "</table>\n",
       "</div>"
      ],
      "text/plain": [
       "Ticker              F          GE       MSFT         PG\n",
       "Date                                                   \n",
       "2000-01-03  11.617765  129.933243  35.668083  27.213198\n",
       "2000-01-04  11.229582  124.735893  34.463215  26.689560\n",
       "2000-01-05  11.271176  124.519424  34.826561  26.181784\n",
       "2000-01-06  11.285037  126.184174  33.659962  27.387745\n",
       "2000-01-07  12.116858  131.070160  34.099831  29.577490"
      ]
     },
     "execution_count": 18,
     "metadata": {},
     "output_type": "execute_result"
    }
   ],
   "source": [
    "import yfinance as yf\n",
    "\n",
    "stocks = [\"PG\", \"MSFT\", \"F\", \"GE\"]\n",
    "data_p = yf.download(stocks, start=\"2000-01-01\", end=\"2025-08-30\", auto_adjust=False)[\"Adj Close\"]\n",
    "data_p.head()"
   ]
  },
  {
   "cell_type": "code",
   "execution_count": 19,
   "id": "a568eb82",
   "metadata": {},
   "outputs": [
    {
     "data": {
      "text/html": [
       "<div>\n",
       "<style scoped>\n",
       "    .dataframe tbody tr th:only-of-type {\n",
       "        vertical-align: middle;\n",
       "    }\n",
       "\n",
       "    .dataframe tbody tr th {\n",
       "        vertical-align: top;\n",
       "    }\n",
       "\n",
       "    .dataframe thead th {\n",
       "        text-align: right;\n",
       "    }\n",
       "</style>\n",
       "<table border=\"1\" class=\"dataframe\">\n",
       "  <thead>\n",
       "    <tr style=\"text-align: right;\">\n",
       "      <th>Ticker</th>\n",
       "      <th>F</th>\n",
       "      <th>GE</th>\n",
       "      <th>MSFT</th>\n",
       "      <th>PG</th>\n",
       "    </tr>\n",
       "    <tr>\n",
       "      <th>Date</th>\n",
       "      <th></th>\n",
       "      <th></th>\n",
       "      <th></th>\n",
       "      <th></th>\n",
       "    </tr>\n",
       "  </thead>\n",
       "  <tbody>\n",
       "    <tr>\n",
       "      <th>2025-08-25</th>\n",
       "      <td>11.82</td>\n",
       "      <td>266.609985</td>\n",
       "      <td>504.260010</td>\n",
       "      <td>156.149994</td>\n",
       "    </tr>\n",
       "    <tr>\n",
       "      <th>2025-08-26</th>\n",
       "      <td>11.84</td>\n",
       "      <td>273.940002</td>\n",
       "      <td>502.040009</td>\n",
       "      <td>155.970001</td>\n",
       "    </tr>\n",
       "    <tr>\n",
       "      <th>2025-08-27</th>\n",
       "      <td>11.91</td>\n",
       "      <td>273.350006</td>\n",
       "      <td>506.739990</td>\n",
       "      <td>156.960007</td>\n",
       "    </tr>\n",
       "    <tr>\n",
       "      <th>2025-08-28</th>\n",
       "      <td>11.71</td>\n",
       "      <td>276.000000</td>\n",
       "      <td>509.640015</td>\n",
       "      <td>155.649994</td>\n",
       "    </tr>\n",
       "    <tr>\n",
       "      <th>2025-08-29</th>\n",
       "      <td>11.77</td>\n",
       "      <td>275.200012</td>\n",
       "      <td>506.690002</td>\n",
       "      <td>157.039993</td>\n",
       "    </tr>\n",
       "  </tbody>\n",
       "</table>\n",
       "</div>"
      ],
      "text/plain": [
       "Ticker          F          GE        MSFT          PG\n",
       "Date                                                 \n",
       "2025-08-25  11.82  266.609985  504.260010  156.149994\n",
       "2025-08-26  11.84  273.940002  502.040009  155.970001\n",
       "2025-08-27  11.91  273.350006  506.739990  156.960007\n",
       "2025-08-28  11.71  276.000000  509.640015  155.649994\n",
       "2025-08-29  11.77  275.200012  506.690002  157.039993"
      ]
     },
     "execution_count": 19,
     "metadata": {},
     "output_type": "execute_result"
    }
   ],
   "source": [
    "data_p.tail()"
   ]
  },
  {
   "cell_type": "code",
   "execution_count": 20,
   "id": "423dbabd",
   "metadata": {},
   "outputs": [
    {
     "name": "stdout",
     "output_type": "stream",
     "text": [
      "<class 'pandas.core.frame.DataFrame'>\n",
      "DatetimeIndex: 6454 entries, 2000-01-03 to 2025-08-29\n",
      "Data columns (total 4 columns):\n",
      " #   Column  Non-Null Count  Dtype  \n",
      "---  ------  --------------  -----  \n",
      " 0   F       6454 non-null   float64\n",
      " 1   GE      6454 non-null   float64\n",
      " 2   MSFT    6454 non-null   float64\n",
      " 3   PG      6454 non-null   float64\n",
      "dtypes: float64(4)\n",
      "memory usage: 252.1 KB\n"
     ]
    }
   ],
   "source": [
    "data_p.info()"
   ]
  },
  {
   "cell_type": "markdown",
   "id": "02fd474a",
   "metadata": {},
   "source": [
    "### Normalize the prices\n",
    "\n",
    "Why normalize?\n",
    "Because stock prices differ (MSFT may be $30, PG $70, Ford $10, etc.), and we want to compare them as if they all started at the same level (100)."
   ]
  },
  {
   "cell_type": "markdown",
   "id": "66d29342",
   "metadata": {},
   "source": [
    " Normalization to 100:\n",
    "\n",
    "$$\n",
    "\\frac {P_t}{P_0} * 100\n",
    "$$"
   ]
  },
  {
   "cell_type": "code",
   "execution_count": 21,
   "id": "c867dfa8",
   "metadata": {},
   "outputs": [
    {
     "data": {
      "text/plain": [
       "Ticker\n",
       "F        11.617765\n",
       "GE      129.933243\n",
       "MSFT     35.668083\n",
       "PG       27.213198\n",
       "Name: 2000-01-03 00:00:00, dtype: float64"
      ]
     },
     "execution_count": 21,
     "metadata": {},
     "output_type": "execute_result"
    }
   ],
   "source": [
    "data_p.iloc[0]"
   ]
  },
  {
   "cell_type": "markdown",
   "id": "52a82258",
   "metadata": {},
   "source": [
    "### Now all stocks start at 100 on day 1 → easy to compare growth paths."
   ]
  },
  {
   "cell_type": "code",
   "execution_count": 22,
   "id": "a02cc419",
   "metadata": {},
   "outputs": [
    {
     "data": {
      "image/png": "[encoded data removed]",
      "text/plain": [
       "<Figure size 1500x600 with 1 Axes>"
      ]
     },
     "metadata": {},
     "output_type": "display_data"
    }
   ],
   "source": [
    "(data_p / data_p.iloc[0] * 100).plot(figsize = (15, 6));\n",
    "plt.title(\"Normalized Stock Prices (Base = 100)\")\n",
    "plt.show()"
   ]
  },
  {
   "cell_type": "markdown",
   "id": "3a3c2a0c",
   "metadata": {},
   "source": [
    "    Microsoft (MSFT): This is the outperformer of the group. The stock shows explosive growth, particularly from 2018 to 2025. Procter & Gamble (PG): This is the stable growth stock.\n",
    "\n",
    "    Ford (F) & General Electric (GE): These are the underperformers of the group. Their prices have remained relatively flat over the last 25 years, failing to generate significant returns compared to the others."
   ]
  },
  {
   "cell_type": "markdown",
   "id": "b64a540d",
   "metadata": {},
   "source": [
    "Microsoft's recent outperformance is driven by its dominance in cloud computing (Azure) and a significant push into Artificial Intelligence (AI), with strong Q2 2025 earnings showing revenue growth and heightened investor confidence. "
   ]
  },
  {
   "cell_type": "code",
   "execution_count": 23,
   "id": "52350027",
   "metadata": {},
   "outputs": [
    {
     "data": {
      "image/png": "[encoded data removed]",
      "text/plain": [
       "<Figure size 1500x600 with 1 Axes>"
      ]
     },
     "metadata": {},
     "output_type": "display_data"
    }
   ],
   "source": [
    "data_p.plot(figsize=(15,6))\n",
    "plt.title(\"Normalized Stock Prices (Base = 100)\")\n",
    "plt.show()"
   ]
  },
  {
   "cell_type": "code",
   "execution_count": 24,
   "id": "bff48e07",
   "metadata": {},
   "outputs": [
    {
     "data": {
      "text/plain": [
       "Ticker\n",
       "F        11.617765\n",
       "GE      129.933243\n",
       "MSFT     35.668083\n",
       "PG       27.213198\n",
       "Name: 2000-01-03 00:00:00, dtype: float64"
      ]
     },
     "execution_count": 24,
     "metadata": {},
     "output_type": "execute_result"
    }
   ],
   "source": [
    "data_p.loc['2000-01-03']"
   ]
  },
  {
   "cell_type": "code",
   "execution_count": 25,
   "id": "7a2abe25",
   "metadata": {},
   "outputs": [
    {
     "data": {
      "text/plain": [
       "Ticker\n",
       "F        11.617765\n",
       "GE      129.933243\n",
       "MSFT     35.668083\n",
       "PG       27.213198\n",
       "Name: 2000-01-03 00:00:00, dtype: float64"
      ]
     },
     "execution_count": 25,
     "metadata": {},
     "output_type": "execute_result"
    }
   ],
   "source": [
    "data_p.iloc[0]"
   ]
  },
  {
   "cell_type": "markdown",
   "id": "c4664703",
   "metadata": {},
   "source": [
    "### Now we Calculate Simple daily returns"
   ]
  },
  {
   "cell_type": "code",
   "execution_count": 26,
   "id": "7ff0d908",
   "metadata": {},
   "outputs": [
    {
     "data": {
      "text/html": [
       "<div>\n",
       "<style scoped>\n",
       "    .dataframe tbody tr th:only-of-type {\n",
       "        vertical-align: middle;\n",
       "    }\n",
       "\n",
       "    .dataframe tbody tr th {\n",
       "        vertical-align: top;\n",
       "    }\n",
       "\n",
       "    .dataframe thead th {\n",
       "        text-align: right;\n",
       "    }\n",
       "</style>\n",
       "<table border=\"1\" class=\"dataframe\">\n",
       "  <thead>\n",
       "    <tr style=\"text-align: right;\">\n",
       "      <th>Ticker</th>\n",
       "      <th>F</th>\n",
       "      <th>GE</th>\n",
       "      <th>MSFT</th>\n",
       "      <th>PG</th>\n",
       "    </tr>\n",
       "    <tr>\n",
       "      <th>Date</th>\n",
       "      <th></th>\n",
       "      <th></th>\n",
       "      <th></th>\n",
       "      <th></th>\n",
       "    </tr>\n",
       "  </thead>\n",
       "  <tbody>\n",
       "    <tr>\n",
       "      <th>2025-08-25</th>\n",
       "      <td>0.006814</td>\n",
       "      <td>0.000300</td>\n",
       "      <td>-0.005855</td>\n",
       "      <td>-0.015882</td>\n",
       "    </tr>\n",
       "    <tr>\n",
       "      <th>2025-08-26</th>\n",
       "      <td>0.001692</td>\n",
       "      <td>0.027493</td>\n",
       "      <td>-0.004402</td>\n",
       "      <td>-0.001153</td>\n",
       "    </tr>\n",
       "    <tr>\n",
       "      <th>2025-08-27</th>\n",
       "      <td>0.005912</td>\n",
       "      <td>-0.002154</td>\n",
       "      <td>0.009362</td>\n",
       "      <td>0.006347</td>\n",
       "    </tr>\n",
       "    <tr>\n",
       "      <th>2025-08-28</th>\n",
       "      <td>-0.016793</td>\n",
       "      <td>0.009695</td>\n",
       "      <td>0.005723</td>\n",
       "      <td>-0.008346</td>\n",
       "    </tr>\n",
       "    <tr>\n",
       "      <th>2025-08-29</th>\n",
       "      <td>0.005124</td>\n",
       "      <td>-0.002899</td>\n",
       "      <td>-0.005788</td>\n",
       "      <td>0.008930</td>\n",
       "    </tr>\n",
       "  </tbody>\n",
       "</table>\n",
       "</div>"
      ],
      "text/plain": [
       "Ticker             F        GE      MSFT        PG\n",
       "Date                                              \n",
       "2025-08-25  0.006814  0.000300 -0.005855 -0.015882\n",
       "2025-08-26  0.001692  0.027493 -0.004402 -0.001153\n",
       "2025-08-27  0.005912 -0.002154  0.009362  0.006347\n",
       "2025-08-28 -0.016793  0.009695  0.005723 -0.008346\n",
       "2025-08-29  0.005124 -0.002899 -0.005788  0.008930"
      ]
     },
     "execution_count": 26,
     "metadata": {},
     "output_type": "execute_result"
    }
   ],
   "source": [
    "returns = (data_p / data_p.shift(1)) - 1\n",
    "returns.head()\n",
    "returns.tail()"
   ]
  },
  {
   "cell_type": "code",
   "execution_count": 27,
   "id": "30684cd0",
   "metadata": {},
   "outputs": [],
   "source": [
    "weights = np.array([0.25, 0.25, 0.25, 0.25])"
   ]
  },
  {
   "cell_type": "markdown",
   "id": "2cba6905",
   "metadata": {},
   "source": [
    "#### Portfolio return (equal weights)\n",
    "\n",
    "    If each stock has 25% weight, we do a dot product:"
   ]
  },
  {
   "cell_type": "code",
   "execution_count": 28,
   "id": "f1974d81",
   "metadata": {},
   "outputs": [
    {
     "data": {
      "text/plain": [
       "array([        nan, -0.03160879, -0.00162842, ...,  0.00486689,\n",
       "       -0.00243033,  0.00134181])"
      ]
     },
     "execution_count": 28,
     "metadata": {},
     "output_type": "execute_result"
    }
   ],
   "source": [
    "np.dot(returns, weights)"
   ]
  },
  {
   "cell_type": "markdown",
   "id": "0f5485f0",
   "metadata": {},
   "source": [
    "#### Compute average annual returns\n",
    "\n",
    "    There are about 250 trading days in a year."
   ]
  },
  {
   "cell_type": "code",
   "execution_count": 29,
   "id": "93e8d1dd",
   "metadata": {},
   "outputs": [
    {
     "data": {
      "text/plain": [
       "Ticker\n",
       "F       0.086831\n",
       "GE      0.083724\n",
       "MSFT    0.147817\n",
       "PG      0.089866\n",
       "dtype: float64"
      ]
     },
     "execution_count": 29,
     "metadata": {},
     "output_type": "execute_result"
    }
   ],
   "source": [
    "annual_returns = returns.mean() * 250\n",
    "annual_returns"
   ]
  },
  {
   "cell_type": "code",
   "execution_count": 30,
   "id": "6776df4e",
   "metadata": {},
   "outputs": [
    {
     "data": {
      "text/plain": [
       "0.10205959184215918"
      ]
     },
     "execution_count": 30,
     "metadata": {},
     "output_type": "execute_result"
    }
   ],
   "source": [
    "np.dot(annual_returns, weights)"
   ]
  },
  {
   "cell_type": "code",
   "execution_count": 31,
   "id": "ab278f5a",
   "metadata": {},
   "outputs": [
    {
     "name": "stdout",
     "output_type": "stream",
     "text": [
      "10.206 %\n"
     ]
    }
   ],
   "source": [
    "pfolio_1 = str(round(np.dot(annual_returns, weights), 5) * 100) + ' %'\n",
    "print(pfolio_1)"
   ]
  },
  {
   "cell_type": "markdown",
   "id": "3e1bbe1e",
   "metadata": {},
   "source": [
    "### Portfolio return (custom weights)\n",
    "\n",
    "Example: 40% MSFT, 40% PG, 15% GE, 5% Ford."
   ]
  },
  {
   "cell_type": "code",
   "execution_count": 32,
   "id": "3538ff8a",
   "metadata": {},
   "outputs": [],
   "source": [
    "weights_2 = np.array([0.15, 0.05, 0.4, 0.4])"
   ]
  },
  {
   "cell_type": "markdown",
   "id": "04d71d6f",
   "metadata": {},
   "source": [
    "#### Compare results\n",
    "\n",
    "I simply printed both portfolio returns:"
   ]
  },
  {
   "cell_type": "code",
   "execution_count": 33,
   "id": "8d6d9539",
   "metadata": {},
   "outputs": [
    {
     "name": "stdout",
     "output_type": "stream",
     "text": [
      "10.206 %\n",
      "11.228 %\n"
     ]
    }
   ],
   "source": [
    "pfolio_2 = str(round(np.dot(annual_returns, weights_2), 5) * 100) + ' %'\n",
    "print(pfolio_1)\n",
    "print(pfolio_2)"
   ]
  },
  {
   "cell_type": "markdown",
   "id": "782adf3d",
   "metadata": {},
   "source": [
    "    Now we can see clearly that in portfolio_2 has performed better due to assigned Weights comparison to portfolio_1 -  2nd performed better."
   ]
  },
  {
   "cell_type": "markdown",
   "id": "773eba32",
   "metadata": {},
   "source": [
    "## What is a market index\n",
    "\n",
    "    A market index is like a “thermometer” for a stock market. It gives a single number that shows how the overall market is performing."
   ]
  },
  {
   "cell_type": "markdown",
   "id": "8da9d6ff",
   "metadata": {},
   "source": [
    "### Why stock indices are important\n",
    "\n",
    "    Benchmarking: Compare your stock’s performance to the overall market or a sector.\n",
    "\n",
    "    Example: If your tech stock returned 15% but Nasdaq returned 20%, your stock underperformed the tech sector.\n",
    "\n",
    "    Investment expectations: Indices give an idea of returns from a diversified portfolio.\n",
    "\n",
    "    Instead of picking one stock, you can invest in an index to capture average market returns.\n",
    "\n",
    "    Historical analysis: Look at past returns to understand market trends and volatility."
   ]
  },
  {
   "cell_type": "markdown",
   "id": "53080e9c",
   "metadata": {},
   "source": [
    "Market indices summarize performance of a group of stocks.\n",
    "\n",
    "S&P 500 = U.S. large-cap, market-cap weighted → best representation of U.S. market.\n",
    "\n",
    "DJIA = U.S., 30 large companies, price-weighted → historically important but limited.\n",
    "\n",
    "Nasdaq = tech-heavy U.S. index → shows tech sector performance.\n",
    "\n",
    "Foreign/global indices allow global market benchmarking.\n",
    "\n",
    "Use indices to compare your investments and understand market trends."
   ]
  },
  {
   "cell_type": "markdown",
   "id": "cd360d66",
   "metadata": {},
   "source": [
    "### We are moving from individual stock analysis to market indices analysis:\n",
    "\n",
    "I pick major indices:\n",
    "\n",
    "**^GSPC** → S&P 500 (500 largest U.S. companies)\n",
    "\n",
    "**^IXIC** → Nasdaq (mostly tech-heavy)\n",
    "\n",
    "**^GDAXI** → German DAX (top 30 German companies)\n",
    "\n",
    "**^FTSE** → London FTSE 100 (UK top 100 companies)"
   ]
  },
  {
   "cell_type": "markdown",
   "id": "50ecd4cb",
   "metadata": {},
   "source": [
    "## Downloading and preparing the data\n",
    "I used the same Python libraries:"
   ]
  },
  {
   "cell_type": "code",
   "execution_count": 96,
   "id": "94e102aa",
   "metadata": {},
   "outputs": [
    {
     "name": "stderr",
     "output_type": "stream",
     "text": [
      "C:\\Users\\Rohit Kumar\\AppData\\Local\\Temp\\ipykernel_24472\\3453252283.py:10: FutureWarning: YF.download() has changed argument auto_adjust default to True\n",
      "  data = yf.download(t, start='2000-01-01')['Close']\n",
      "[*********************100%***********************]  1 of 1 completed\n",
      "C:\\Users\\Rohit Kumar\\AppData\\Local\\Temp\\ipykernel_24472\\3453252283.py:10: FutureWarning: YF.download() has changed argument auto_adjust default to True\n",
      "  data = yf.download(t, start='2000-01-01')['Close']\n",
      "[*********************100%***********************]  1 of 1 completed\n",
      "C:\\Users\\Rohit Kumar\\AppData\\Local\\Temp\\ipykernel_24472\\3453252283.py:10: FutureWarning: YF.download() has changed argument auto_adjust default to True\n",
      "  data = yf.download(t, start='2000-01-01')['Close']\n",
      "[*********************100%***********************]  1 of 1 completed\n",
      "C:\\Users\\Rohit Kumar\\AppData\\Local\\Temp\\ipykernel_24472\\3453252283.py:10: FutureWarning: YF.download() has changed argument auto_adjust default to True\n",
      "  data = yf.download(t, start='2000-01-01')['Close']\n",
      "[*********************100%***********************]  1 of 1 completed"
     ]
    },
    {
     "name": "stdout",
     "output_type": "stream",
     "text": [
      "                  ^GSPC          ^DJI        ^IXIC        ^RUT\n",
      "Date                                                          \n",
      "2000-01-03  1455.219971  11357.509766  4131.149902  496.420013\n",
      "2000-01-04  1399.420044  10997.929688  3901.689941  478.380005\n",
      "2000-01-05  1402.109985  11122.650391  3877.540039  478.829987\n",
      "2000-01-06  1403.449951  11253.259766  3727.129883  475.339996\n",
      "2000-01-07  1441.469971  11522.559570  3882.620117  488.309998\n"
     ]
    },
    {
     "name": "stderr",
     "output_type": "stream",
     "text": [
      "\n"
     ]
    }
   ],
   "source": [
    "# List of tickers to fetch\n",
    "tickers = ['^GSPC', '^DJI', '^IXIC', '^RUT']\n",
    "\n",
    "# Create an empty DataFrame to store the data\n",
    "ind_data = pd.DataFrame()\n",
    "\n",
    "# Loop through the tickers and download the adjusted close price\n",
    "for t in tickers:\n",
    "    try:\n",
    "        data = yf.download(t, start='2000-01-01')['Close']\n",
    "        ind_data[t] = data\n",
    "    except Exception as e:\n",
    "        print(f\"Error downloading data for {t}: {e}\")\n",
    "\n",
    "# Display the first few rows of the DataFrame\n",
    "print(ind_data.head())"
   ]
  },
  {
   "cell_type": "markdown",
   "id": "7fa94675",
   "metadata": {},
   "source": [
    "**Russell 2000 (^RUT)**\n",
    "\n",
    "    The Russell 2000 is a stock market index that measures the performance of 2,000 small-cap U.S. companies.\n",
    "\n",
    "**Nasdaq Composite (^IXIC)**\n",
    "\n",
    "    The Nasdaq Composite is a stock market index that includes almost all stocks listed on the Nasdaq stock exchange.\n",
    "\n",
    "**Dow Jones Industrial Average (^DJI)**\n",
    "\n",
    "    The Dow Jones Industrial Average (DJIA) is a stock market index that measures the stock performance of 30 large, publicly owned companies\n",
    "\n",
    "**S&P 500 (^GSPC)**\n",
    "\n",
    "    The S&P 500 is a stock market index that tracks the performance of 500 of the largest publicly traded companies"
   ]
  },
  {
   "cell_type": "code",
   "execution_count": 97,
   "id": "0a2b93d5",
   "metadata": {},
   "outputs": [
    {
     "data": {
      "text/html": [
       "<div>\n",
       "<style scoped>\n",
       "    .dataframe tbody tr th:only-of-type {\n",
       "        vertical-align: middle;\n",
       "    }\n",
       "\n",
       "    .dataframe tbody tr th {\n",
       "        vertical-align: top;\n",
       "    }\n",
       "\n",
       "    .dataframe thead th {\n",
       "        text-align: right;\n",
       "    }\n",
       "</style>\n",
       "<table border=\"1\" class=\"dataframe\">\n",
       "  <thead>\n",
       "    <tr style=\"text-align: right;\">\n",
       "      <th></th>\n",
       "      <th>^GSPC</th>\n",
       "      <th>^DJI</th>\n",
       "      <th>^IXIC</th>\n",
       "      <th>^RUT</th>\n",
       "    </tr>\n",
       "    <tr>\n",
       "      <th>Date</th>\n",
       "      <th></th>\n",
       "      <th></th>\n",
       "      <th></th>\n",
       "      <th></th>\n",
       "    </tr>\n",
       "  </thead>\n",
       "  <tbody>\n",
       "    <tr>\n",
       "      <th>2000-01-03</th>\n",
       "      <td>1455.219971</td>\n",
       "      <td>11357.509766</td>\n",
       "      <td>4131.149902</td>\n",
       "      <td>496.420013</td>\n",
       "    </tr>\n",
       "    <tr>\n",
       "      <th>2000-01-04</th>\n",
       "      <td>1399.420044</td>\n",
       "      <td>10997.929688</td>\n",
       "      <td>3901.689941</td>\n",
       "      <td>478.380005</td>\n",
       "    </tr>\n",
       "    <tr>\n",
       "      <th>2000-01-05</th>\n",
       "      <td>1402.109985</td>\n",
       "      <td>11122.650391</td>\n",
       "      <td>3877.540039</td>\n",
       "      <td>478.829987</td>\n",
       "    </tr>\n",
       "    <tr>\n",
       "      <th>2000-01-06</th>\n",
       "      <td>1403.449951</td>\n",
       "      <td>11253.259766</td>\n",
       "      <td>3727.129883</td>\n",
       "      <td>475.339996</td>\n",
       "    </tr>\n",
       "    <tr>\n",
       "      <th>2000-01-07</th>\n",
       "      <td>1441.469971</td>\n",
       "      <td>11522.559570</td>\n",
       "      <td>3882.620117</td>\n",
       "      <td>488.309998</td>\n",
       "    </tr>\n",
       "  </tbody>\n",
       "</table>\n",
       "</div>"
      ],
      "text/plain": [
       "                  ^GSPC          ^DJI        ^IXIC        ^RUT\n",
       "Date                                                          \n",
       "2000-01-03  1455.219971  11357.509766  4131.149902  496.420013\n",
       "2000-01-04  1399.420044  10997.929688  3901.689941  478.380005\n",
       "2000-01-05  1402.109985  11122.650391  3877.540039  478.829987\n",
       "2000-01-06  1403.449951  11253.259766  3727.129883  475.339996\n",
       "2000-01-07  1441.469971  11522.559570  3882.620117  488.309998"
      ]
     },
     "execution_count": 97,
     "metadata": {},
     "output_type": "execute_result"
    }
   ],
   "source": [
    "ind_data.head()"
   ]
  },
  {
   "cell_type": "code",
   "execution_count": 98,
   "id": "521f5129",
   "metadata": {},
   "outputs": [
    {
     "data": {
      "text/html": [
       "<div>\n",
       "<style scoped>\n",
       "    .dataframe tbody tr th:only-of-type {\n",
       "        vertical-align: middle;\n",
       "    }\n",
       "\n",
       "    .dataframe tbody tr th {\n",
       "        vertical-align: top;\n",
       "    }\n",
       "\n",
       "    .dataframe thead th {\n",
       "        text-align: right;\n",
       "    }\n",
       "</style>\n",
       "<table border=\"1\" class=\"dataframe\">\n",
       "  <thead>\n",
       "    <tr style=\"text-align: right;\">\n",
       "      <th></th>\n",
       "      <th>^GSPC</th>\n",
       "      <th>^DJI</th>\n",
       "      <th>^IXIC</th>\n",
       "      <th>^RUT</th>\n",
       "    </tr>\n",
       "    <tr>\n",
       "      <th>Date</th>\n",
       "      <th></th>\n",
       "      <th></th>\n",
       "      <th></th>\n",
       "      <th></th>\n",
       "    </tr>\n",
       "  </thead>\n",
       "  <tbody>\n",
       "    <tr>\n",
       "      <th>2025-08-25</th>\n",
       "      <td>6439.319824</td>\n",
       "      <td>45282.468750</td>\n",
       "      <td>21449.289062</td>\n",
       "      <td>2339.169922</td>\n",
       "    </tr>\n",
       "    <tr>\n",
       "      <th>2025-08-26</th>\n",
       "      <td>6465.939941</td>\n",
       "      <td>45418.070312</td>\n",
       "      <td>21544.269531</td>\n",
       "      <td>2358.600098</td>\n",
       "    </tr>\n",
       "    <tr>\n",
       "      <th>2025-08-27</th>\n",
       "      <td>6481.399902</td>\n",
       "      <td>45565.230469</td>\n",
       "      <td>21590.140625</td>\n",
       "      <td>2373.800049</td>\n",
       "    </tr>\n",
       "    <tr>\n",
       "      <th>2025-08-28</th>\n",
       "      <td>6501.859863</td>\n",
       "      <td>45636.898438</td>\n",
       "      <td>21705.160156</td>\n",
       "      <td>2378.409912</td>\n",
       "    </tr>\n",
       "    <tr>\n",
       "      <th>2025-08-29</th>\n",
       "      <td>6460.259766</td>\n",
       "      <td>45544.878906</td>\n",
       "      <td>21455.550781</td>\n",
       "      <td>2366.419922</td>\n",
       "    </tr>\n",
       "  </tbody>\n",
       "</table>\n",
       "</div>"
      ],
      "text/plain": [
       "                  ^GSPC          ^DJI         ^IXIC         ^RUT\n",
       "Date                                                            \n",
       "2025-08-25  6439.319824  45282.468750  21449.289062  2339.169922\n",
       "2025-08-26  6465.939941  45418.070312  21544.269531  2358.600098\n",
       "2025-08-27  6481.399902  45565.230469  21590.140625  2373.800049\n",
       "2025-08-28  6501.859863  45636.898438  21705.160156  2378.409912\n",
       "2025-08-29  6460.259766  45544.878906  21455.550781  2366.419922"
      ]
     },
     "execution_count": 98,
     "metadata": {},
     "output_type": "execute_result"
    }
   ],
   "source": [
    "ind_data.tail()"
   ]
  },
  {
   "cell_type": "markdown",
   "id": "35263939",
   "metadata": {},
   "source": [
    "## Normalizing indices for comparison\n",
    "\n",
    "I normalize all indices to 100 at the start. This makes it easy to compare their relative growth, regardless of absolute price differences."
   ]
  },
  {
   "cell_type": "code",
   "execution_count": 99,
   "id": "9de0d90a",
   "metadata": {
    "scrolled": true
   },
   "outputs": [
    {
     "data": {
      "image/png": "[encoded data removed]",
      "text/plain": [
       "<Figure size 1000x600 with 1 Axes>"
      ]
     },
     "metadata": {},
     "output_type": "display_data"
    }
   ],
   "source": [
    "(ind_data / ind_data.iloc[0] * 100).plot(figsize=(10, 6));\n",
    "plt.show()"
   ]
  },
  {
   "cell_type": "markdown",
   "id": "ab2d15ff",
   "metadata": {},
   "source": [
    "## Interpreting the chart\n",
    "\n",
    "From the chart:\n",
    "\n",
    "2001–2003 → Nasdaq declines sharply after dotcom crash.\n",
    "\n",
    "2007–2008 → Global financial crisis → all indices drop.\n",
    "\n",
    "2011 → Sovereign debt crisis → minor dips, especially in Europe.\n",
    "\n",
    "Long-term trend → All indices show growth over 20+ years."
   ]
  },
  {
   "cell_type": "markdown",
   "id": "9b2cbc11",
   "metadata": {},
   "source": [
    "### Calculating simple annual returns"
   ]
  },
  {
   "cell_type": "code",
   "execution_count": 100,
   "id": "11354189",
   "metadata": {},
   "outputs": [
    {
     "data": {
      "text/html": [
       "<div>\n",
       "<style scoped>\n",
       "    .dataframe tbody tr th:only-of-type {\n",
       "        vertical-align: middle;\n",
       "    }\n",
       "\n",
       "    .dataframe tbody tr th {\n",
       "        vertical-align: top;\n",
       "    }\n",
       "\n",
       "    .dataframe thead th {\n",
       "        text-align: right;\n",
       "    }\n",
       "</style>\n",
       "<table border=\"1\" class=\"dataframe\">\n",
       "  <thead>\n",
       "    <tr style=\"text-align: right;\">\n",
       "      <th></th>\n",
       "      <th>^GSPC</th>\n",
       "      <th>^DJI</th>\n",
       "      <th>^IXIC</th>\n",
       "      <th>^RUT</th>\n",
       "    </tr>\n",
       "    <tr>\n",
       "      <th>Date</th>\n",
       "      <th></th>\n",
       "      <th></th>\n",
       "      <th></th>\n",
       "      <th></th>\n",
       "    </tr>\n",
       "  </thead>\n",
       "  <tbody>\n",
       "    <tr>\n",
       "      <th>2025-08-25</th>\n",
       "      <td>-0.004266</td>\n",
       "      <td>-0.007654</td>\n",
       "      <td>-0.002198</td>\n",
       "      <td>-0.009645</td>\n",
       "    </tr>\n",
       "    <tr>\n",
       "      <th>2025-08-26</th>\n",
       "      <td>0.004134</td>\n",
       "      <td>0.002995</td>\n",
       "      <td>0.004428</td>\n",
       "      <td>0.008306</td>\n",
       "    </tr>\n",
       "    <tr>\n",
       "      <th>2025-08-27</th>\n",
       "      <td>0.002391</td>\n",
       "      <td>0.003240</td>\n",
       "      <td>0.002129</td>\n",
       "      <td>0.006444</td>\n",
       "    </tr>\n",
       "    <tr>\n",
       "      <th>2025-08-28</th>\n",
       "      <td>0.003157</td>\n",
       "      <td>0.001573</td>\n",
       "      <td>0.005327</td>\n",
       "      <td>0.001942</td>\n",
       "    </tr>\n",
       "    <tr>\n",
       "      <th>2025-08-29</th>\n",
       "      <td>-0.006398</td>\n",
       "      <td>-0.002016</td>\n",
       "      <td>-0.011500</td>\n",
       "      <td>-0.005041</td>\n",
       "    </tr>\n",
       "  </tbody>\n",
       "</table>\n",
       "</div>"
      ],
      "text/plain": [
       "               ^GSPC      ^DJI     ^IXIC      ^RUT\n",
       "Date                                              \n",
       "2025-08-25 -0.004266 -0.007654 -0.002198 -0.009645\n",
       "2025-08-26  0.004134  0.002995  0.004428  0.008306\n",
       "2025-08-27  0.002391  0.003240  0.002129  0.006444\n",
       "2025-08-28  0.003157  0.001573  0.005327  0.001942\n",
       "2025-08-29 -0.006398 -0.002016 -0.011500 -0.005041"
      ]
     },
     "execution_count": 100,
     "metadata": {},
     "output_type": "execute_result"
    }
   ],
   "source": [
    "ind_returns = (ind_data / ind_data.shift(1)) - 1\n",
    "\n",
    "ind_returns.tail()"
   ]
  },
  {
   "cell_type": "code",
   "execution_count": 101,
   "id": "857f8e20",
   "metadata": {},
   "outputs": [
    {
     "data": {
      "text/plain": [
       "^GSPC    0.076540\n",
       "^DJI     0.070734\n",
       "^IXIC    0.094831\n",
       "^RUT     0.090281\n",
       "dtype: float64"
      ]
     },
     "execution_count": 101,
     "metadata": {},
     "output_type": "execute_result"
    }
   ],
   "source": [
    "annual_ind_returns = ind_returns.mean() * 250\n",
    "annual_ind_returns"
   ]
  },
  {
   "cell_type": "markdown",
   "id": "53c45860",
   "metadata": {},
   "source": [
    "## Comparing a stock with indices\n",
    "\n",
    "Suppose we want to compare P&G with the S&P 500 and Dow Jones:"
   ]
  },
  {
   "cell_type": "code",
   "execution_count": 102,
   "id": "d9bb3924",
   "metadata": {},
   "outputs": [
    {
     "name": "stderr",
     "output_type": "stream",
     "text": [
      "C:\\Users\\Rohit Kumar\\AppData\\Local\\Temp\\ipykernel_24472\\2407381251.py:9: FutureWarning: YF.download() has changed argument auto_adjust default to True\n",
      "  data = yf.download(t, start='2007-01-01')['Close']\n",
      "[*********************100%***********************]  1 of 1 completed\n",
      "C:\\Users\\Rohit Kumar\\AppData\\Local\\Temp\\ipykernel_24472\\2407381251.py:9: FutureWarning: YF.download() has changed argument auto_adjust default to True\n",
      "  data = yf.download(t, start='2007-01-01')['Close']\n",
      "[*********************100%***********************]  1 of 1 completed\n",
      "C:\\Users\\Rohit Kumar\\AppData\\Local\\Temp\\ipykernel_24472\\2407381251.py:9: FutureWarning: YF.download() has changed argument auto_adjust default to True\n",
      "  data = yf.download(t, start='2007-01-01')['Close']\n",
      "[*********************100%***********************]  1 of 1 completed"
     ]
    },
    {
     "name": "stdout",
     "output_type": "stream",
     "text": [
      "                   PG        ^GSPC          ^DJI\n",
      "Date                                            \n",
      "2007-01-03  37.885502  1416.599976  12474.519531\n",
      "2007-01-04  37.597855  1418.339966  12480.690430\n",
      "2007-01-05  37.275005  1409.709961  12398.009766\n",
      "2007-01-08  37.357178  1412.839966  12423.490234\n",
      "2007-01-09  37.263252  1412.109985  12416.599609\n"
     ]
    },
    {
     "name": "stderr",
     "output_type": "stream",
     "text": [
      "\n"
     ]
    }
   ],
   "source": [
    "tickers = ['PG', '^GSPC', '^DJI']\n",
    "\n",
    "# Create an empty DataFrame to store the data\n",
    "data_2 = pd.DataFrame()\n",
    "\n",
    "# Loop through the tickers and download the closing price\n",
    "for t in tickers:\n",
    "    try:\n",
    "        data = yf.download(t, start='2007-01-01')['Close']\n",
    "        data_2[t] = data\n",
    "    except Exception as e:\n",
    "        print(f\"Error downloading data for {t}: {e}\")\n",
    "\n",
    "# Display the first few rows of the DataFrame\n",
    "print(data_2.head())"
   ]
  },
  {
   "cell_type": "code",
   "execution_count": 103,
   "id": "73298a7f",
   "metadata": {},
   "outputs": [
    {
     "data": {
      "text/html": [
       "<div>\n",
       "<style scoped>\n",
       "    .dataframe tbody tr th:only-of-type {\n",
       "        vertical-align: middle;\n",
       "    }\n",
       "\n",
       "    .dataframe tbody tr th {\n",
       "        vertical-align: top;\n",
       "    }\n",
       "\n",
       "    .dataframe thead th {\n",
       "        text-align: right;\n",
       "    }\n",
       "</style>\n",
       "<table border=\"1\" class=\"dataframe\">\n",
       "  <thead>\n",
       "    <tr style=\"text-align: right;\">\n",
       "      <th></th>\n",
       "      <th>PG</th>\n",
       "      <th>^GSPC</th>\n",
       "      <th>^DJI</th>\n",
       "    </tr>\n",
       "    <tr>\n",
       "      <th>Date</th>\n",
       "      <th></th>\n",
       "      <th></th>\n",
       "      <th></th>\n",
       "    </tr>\n",
       "  </thead>\n",
       "  <tbody>\n",
       "    <tr>\n",
       "      <th>2025-08-25</th>\n",
       "      <td>156.149994</td>\n",
       "      <td>6439.319824</td>\n",
       "      <td>45282.468750</td>\n",
       "    </tr>\n",
       "    <tr>\n",
       "      <th>2025-08-26</th>\n",
       "      <td>155.970001</td>\n",
       "      <td>6465.939941</td>\n",
       "      <td>45418.070312</td>\n",
       "    </tr>\n",
       "    <tr>\n",
       "      <th>2025-08-27</th>\n",
       "      <td>156.960007</td>\n",
       "      <td>6481.399902</td>\n",
       "      <td>45565.230469</td>\n",
       "    </tr>\n",
       "    <tr>\n",
       "      <th>2025-08-28</th>\n",
       "      <td>155.649994</td>\n",
       "      <td>6501.859863</td>\n",
       "      <td>45636.898438</td>\n",
       "    </tr>\n",
       "    <tr>\n",
       "      <th>2025-08-29</th>\n",
       "      <td>157.039993</td>\n",
       "      <td>6460.259766</td>\n",
       "      <td>45544.878906</td>\n",
       "    </tr>\n",
       "  </tbody>\n",
       "</table>\n",
       "</div>"
      ],
      "text/plain": [
       "                    PG        ^GSPC          ^DJI\n",
       "Date                                             \n",
       "2025-08-25  156.149994  6439.319824  45282.468750\n",
       "2025-08-26  155.970001  6465.939941  45418.070312\n",
       "2025-08-27  156.960007  6481.399902  45565.230469\n",
       "2025-08-28  155.649994  6501.859863  45636.898438\n",
       "2025-08-29  157.039993  6460.259766  45544.878906"
      ]
     },
     "execution_count": 103,
     "metadata": {},
     "output_type": "execute_result"
    }
   ],
   "source": [
    "data_2.tail()"
   ]
  },
  {
   "cell_type": "code",
   "execution_count": 104,
   "id": "a144980c",
   "metadata": {},
   "outputs": [
    {
     "data": {
      "image/png": "[encoded data removed]",
      "text/plain": [
       "<Figure size 1500x600 with 1 Axes>"
      ]
     },
     "metadata": {},
     "output_type": "display_data"
    }
   ],
   "source": [
    "(data_2 / data_2.iloc[0] * 100).plot(figsize=(15, 6));\n",
    "plt.show()"
   ]
  },
  {
   "cell_type": "markdown",
   "id": "88e859f4",
   "metadata": {},
   "source": [
    "The 2008 Financial Crisis is clearly visible as a sharp, synchronized drop across all three lines. All assets rebounded and continued their climb afterward.\n",
    "\n",
    "The 2020 COVID-19 market crash is also visible as a sharp dip, followed by an even more aggressive recovery, particularly for the S&P 500 and the Dow Jones."
   ]
  },
  {
   "cell_type": "markdown",
   "id": "a92e410e",
   "metadata": {},
   "source": [
    "### Comparison Analysis\n",
    "PG Stock vs. the Indices (^GSPC and ^DJI):"
   ]
  },
  {
   "cell_type": "markdown",
   "id": "c2518a02",
   "metadata": {},
   "source": [
    "1.Early Outperformance: From 2007 to around 2018, PG's performance was quite similar to the S&P 500 and the Dow.\n",
    "\n",
    "2.Post-2018 Performance: After 2018, PG's stock has clearly outperformed both indices. Its growth trajectory is steeper and more consistent, especially from 2019 onwards.\n",
    "\n",
    "3.Volatility: PG appears to be less volatile than the broader indices. "
   ]
  },
  {
   "cell_type": "markdown",
   "id": "2204673b",
   "metadata": {},
   "source": [
    "### S&P 500 (^GSPC) vs. Dow Jones (^DJI):"
   ]
  },
  {
   "cell_type": "markdown",
   "id": "5015d3b6",
   "metadata": {},
   "source": [
    "    1.Highly Correlated: The S&P 500 and the Dow Jones Industrial Average track each other very closely, as expected. \n",
    "\n",
    "    2.Slight Outperformance by S&P 500: Over the entire period, the S&P 500 appears to have slightly outperformed the Dow Jones Industrial Average,"
   ]
  },
  {
   "cell_type": "markdown",
   "id": "4541614e",
   "metadata": {},
   "source": [
    "## Risk & Return\n",
    "\n",
    "Return = how much money you expect to make on your investment (e.g., 15% average per year).\n",
    "\n",
    "Risk = uncertainty about the return. You don’t know exactly what you’ll get; returns vary each year."
   ]
  },
  {
   "cell_type": "markdown",
   "id": "fd7c7c3f",
   "metadata": {},
   "source": [
    "### Measuring risk with statistics\n",
    "\n",
    "We need a way to quantify this variability.\n",
    "Two common measures are:\n",
    "\n",
    "Variance (σ²) = average squared deviation of returns from the mean.\n",
    "\n",
    "Standard Deviation (σ) = square root of variance, easier to interpret because it’s in the same units as returns."
   ]
  },
  {
   "cell_type": "markdown",
   "id": "88125a12",
   "metadata": {},
   "source": [
    "   **Variance tells us how spread out returns are.**\n",
    "\n",
    "    Standard deviation is the square root of variance and is the most common measure of risk.\n",
    "\n",
    "    Higher standard deviation → higher uncertainty → higher risk."
   ]
  },
  {
   "cell_type": "markdown",
   "id": "1f86602b",
   "metadata": {},
   "source": [
    "### Measuring a stock’s risk (volatility) using Python.\n",
    "\n",
    "**PG (Procter & Gamble):** A major American multinational consumer goods corporation that sells a wide range of everyday products, from household cleaners to personal care items.\n",
    "\n",
    "**BEI.DE (Beiersdorf AG):** A German multinational company that manufactures personal care and cosmetics products"
   ]
  },
  {
   "cell_type": "code",
   "execution_count": 105,
   "id": "525fb71e",
   "metadata": {},
   "outputs": [
    {
     "name": "stderr",
     "output_type": "stream",
     "text": [
      "C:\\Users\\Rohit Kumar\\AppData\\Local\\Temp\\ipykernel_24472\\2749942137.py:6: FutureWarning: YF.download() has changed argument auto_adjust default to True\n",
      "  data = yf.download(t, start='2006-01-01')['Close']\n",
      "[*********************100%***********************]  1 of 1 completed\n",
      "C:\\Users\\Rohit Kumar\\AppData\\Local\\Temp\\ipykernel_24472\\2749942137.py:6: FutureWarning: YF.download() has changed argument auto_adjust default to True\n",
      "  data = yf.download(t, start='2006-01-01')['Close']\n",
      "[*********************100%***********************]  1 of 1 completed"
     ]
    },
    {
     "name": "stdout",
     "output_type": "stream",
     "text": [
      "                   PG     BEI.DE\n",
      "Date                            \n",
      "2006-01-03  33.791237  27.664934\n",
      "2006-01-04  33.854469  27.646778\n",
      "2006-01-05  33.745258  27.545626\n",
      "2006-01-06  33.710766  27.618250\n",
      "2006-01-09  33.963699  27.558596\n"
     ]
    },
    {
     "name": "stderr",
     "output_type": "stream",
     "text": [
      "\n"
     ]
    }
   ],
   "source": [
    "tickers = ['PG', 'BEI.DE']\n",
    "sec_data = pd.DataFrame()\n",
    "\n",
    "for t in tickers:\n",
    "    try:\n",
    "        data = yf.download(t, start='2006-01-01')['Close']\n",
    "        sec_data[t] = data\n",
    "    except Exception as e:\n",
    "        print(f\"Error downloading data for {t}: {e}\")\n",
    "\n",
    "# Display the first few rows of the DataFrame\n",
    "print(sec_data.head())"
   ]
  },
  {
   "cell_type": "code",
   "execution_count": 106,
   "id": "c99603c5",
   "metadata": {},
   "outputs": [
    {
     "data": {
      "text/html": [
       "<div>\n",
       "<style scoped>\n",
       "    .dataframe tbody tr th:only-of-type {\n",
       "        vertical-align: middle;\n",
       "    }\n",
       "\n",
       "    .dataframe tbody tr th {\n",
       "        vertical-align: top;\n",
       "    }\n",
       "\n",
       "    .dataframe thead th {\n",
       "        text-align: right;\n",
       "    }\n",
       "</style>\n",
       "<table border=\"1\" class=\"dataframe\">\n",
       "  <thead>\n",
       "    <tr style=\"text-align: right;\">\n",
       "      <th></th>\n",
       "      <th>PG</th>\n",
       "      <th>BEI.DE</th>\n",
       "    </tr>\n",
       "    <tr>\n",
       "      <th>Date</th>\n",
       "      <th></th>\n",
       "      <th></th>\n",
       "    </tr>\n",
       "  </thead>\n",
       "  <tbody>\n",
       "    <tr>\n",
       "      <th>2025-08-25</th>\n",
       "      <td>156.149994</td>\n",
       "      <td>99.180000</td>\n",
       "    </tr>\n",
       "    <tr>\n",
       "      <th>2025-08-26</th>\n",
       "      <td>155.970001</td>\n",
       "      <td>98.680000</td>\n",
       "    </tr>\n",
       "    <tr>\n",
       "      <th>2025-08-27</th>\n",
       "      <td>156.960007</td>\n",
       "      <td>98.919998</td>\n",
       "    </tr>\n",
       "    <tr>\n",
       "      <th>2025-08-28</th>\n",
       "      <td>155.649994</td>\n",
       "      <td>99.320000</td>\n",
       "    </tr>\n",
       "    <tr>\n",
       "      <th>2025-08-29</th>\n",
       "      <td>157.039993</td>\n",
       "      <td>98.239998</td>\n",
       "    </tr>\n",
       "  </tbody>\n",
       "</table>\n",
       "</div>"
      ],
      "text/plain": [
       "                    PG     BEI.DE\n",
       "Date                             \n",
       "2025-08-25  156.149994  99.180000\n",
       "2025-08-26  155.970001  98.680000\n",
       "2025-08-27  156.960007  98.919998\n",
       "2025-08-28  155.649994  99.320000\n",
       "2025-08-29  157.039993  98.239998"
      ]
     },
     "execution_count": 106,
     "metadata": {},
     "output_type": "execute_result"
    }
   ],
   "source": [
    "sec_data.tail()"
   ]
  },
  {
   "cell_type": "markdown",
   "id": "6feb3b14",
   "metadata": {},
   "source": [
    "### Calculating returns\n",
    "\n",
    "Instead of simple returns, I used logarithmic returns (log returns).\n",
    "\n",
    "    Why log returns?\n",
    "\n",
    " **They are easier to add up across time.**\n",
    "\n",
    " **They better represent how stocks behave over time.**"
   ]
  },
  {
   "cell_type": "code",
   "execution_count": 107,
   "id": "b781a28f",
   "metadata": {},
   "outputs": [],
   "source": [
    "sec_returns = np.log(sec_data / sec_data.shift(1))"
   ]
  },
  {
   "cell_type": "code",
   "execution_count": 108,
   "id": "3cf2cc80",
   "metadata": {},
   "outputs": [
    {
     "data": {
      "text/html": [
       "<div>\n",
       "<style scoped>\n",
       "    .dataframe tbody tr th:only-of-type {\n",
       "        vertical-align: middle;\n",
       "    }\n",
       "\n",
       "    .dataframe tbody tr th {\n",
       "        vertical-align: top;\n",
       "    }\n",
       "\n",
       "    .dataframe thead th {\n",
       "        text-align: right;\n",
       "    }\n",
       "</style>\n",
       "<table border=\"1\" class=\"dataframe\">\n",
       "  <thead>\n",
       "    <tr style=\"text-align: right;\">\n",
       "      <th></th>\n",
       "      <th>PG</th>\n",
       "      <th>BEI.DE</th>\n",
       "    </tr>\n",
       "    <tr>\n",
       "      <th>Date</th>\n",
       "      <th></th>\n",
       "      <th></th>\n",
       "    </tr>\n",
       "  </thead>\n",
       "  <tbody>\n",
       "    <tr>\n",
       "      <th>2006-01-03</th>\n",
       "      <td>NaN</td>\n",
       "      <td>NaN</td>\n",
       "    </tr>\n",
       "    <tr>\n",
       "      <th>2006-01-04</th>\n",
       "      <td>0.001870</td>\n",
       "      <td>-0.000656</td>\n",
       "    </tr>\n",
       "    <tr>\n",
       "      <th>2006-01-05</th>\n",
       "      <td>-0.003231</td>\n",
       "      <td>-0.003665</td>\n",
       "    </tr>\n",
       "    <tr>\n",
       "      <th>2006-01-06</th>\n",
       "      <td>-0.001023</td>\n",
       "      <td>0.002633</td>\n",
       "    </tr>\n",
       "    <tr>\n",
       "      <th>2006-01-09</th>\n",
       "      <td>0.007475</td>\n",
       "      <td>-0.002162</td>\n",
       "    </tr>\n",
       "    <tr>\n",
       "      <th>...</th>\n",
       "      <td>...</td>\n",
       "      <td>...</td>\n",
       "    </tr>\n",
       "    <tr>\n",
       "      <th>2025-08-25</th>\n",
       "      <td>-0.016010</td>\n",
       "      <td>-0.003824</td>\n",
       "    </tr>\n",
       "    <tr>\n",
       "      <th>2025-08-26</th>\n",
       "      <td>-0.001153</td>\n",
       "      <td>-0.005054</td>\n",
       "    </tr>\n",
       "    <tr>\n",
       "      <th>2025-08-27</th>\n",
       "      <td>0.006327</td>\n",
       "      <td>0.002429</td>\n",
       "    </tr>\n",
       "    <tr>\n",
       "      <th>2025-08-28</th>\n",
       "      <td>-0.008381</td>\n",
       "      <td>0.004036</td>\n",
       "    </tr>\n",
       "    <tr>\n",
       "      <th>2025-08-29</th>\n",
       "      <td>0.008891</td>\n",
       "      <td>-0.010934</td>\n",
       "    </tr>\n",
       "  </tbody>\n",
       "</table>\n",
       "<p>4946 rows × 2 columns</p>\n",
       "</div>"
      ],
      "text/plain": [
       "                  PG    BEI.DE\n",
       "Date                          \n",
       "2006-01-03       NaN       NaN\n",
       "2006-01-04  0.001870 -0.000656\n",
       "2006-01-05 -0.003231 -0.003665\n",
       "2006-01-06 -0.001023  0.002633\n",
       "2006-01-09  0.007475 -0.002162\n",
       "...              ...       ...\n",
       "2025-08-25 -0.016010 -0.003824\n",
       "2025-08-26 -0.001153 -0.005054\n",
       "2025-08-27  0.006327  0.002429\n",
       "2025-08-28 -0.008381  0.004036\n",
       "2025-08-29  0.008891 -0.010934\n",
       "\n",
       "[4946 rows x 2 columns]"
      ]
     },
     "execution_count": 108,
     "metadata": {},
     "output_type": "execute_result"
    }
   ],
   "source": [
    "sec_returns"
   ]
  },
  {
   "cell_type": "markdown",
   "id": "7f21c996",
   "metadata": {},
   "source": [
    "## PG\n",
    "\n",
    "**Mean return and standard deviation**\n",
    "\n",
    "First, calculate daily mean return using .mean() on each column.\n",
    "\n",
    "Then annualize the return: (250 = trading days in a year)"
   ]
  },
  {
   "cell_type": "code",
   "execution_count": 109,
   "id": "dc420b39",
   "metadata": {},
   "outputs": [
    {
     "data": {
      "text/plain": [
       "0.0003106772502168608"
      ]
     },
     "execution_count": 109,
     "metadata": {},
     "output_type": "execute_result"
    }
   ],
   "source": [
    "sec_returns['PG'].mean()"
   ]
  },
  {
   "cell_type": "code",
   "execution_count": 110,
   "id": "8d2f37e8",
   "metadata": {},
   "outputs": [
    {
     "data": {
      "text/plain": [
       "0.07766931255421519"
      ]
     },
     "execution_count": 110,
     "metadata": {},
     "output_type": "execute_result"
    }
   ],
   "source": [
    "sec_returns['PG'].mean() * 250"
   ]
  },
  {
   "cell_type": "code",
   "execution_count": 111,
   "id": "5f62f0c5",
   "metadata": {},
   "outputs": [
    {
     "data": {
      "text/plain": [
       "0.011509771306601012"
      ]
     },
     "execution_count": 111,
     "metadata": {},
     "output_type": "execute_result"
    }
   ],
   "source": [
    "sec_returns['PG'].std()"
   ]
  },
  {
   "cell_type": "code",
   "execution_count": 112,
   "id": "89cf71ba",
   "metadata": {},
   "outputs": [
    {
     "data": {
      "text/plain": [
       "0.181985463382557"
      ]
     },
     "execution_count": 112,
     "metadata": {},
     "output_type": "execute_result"
    }
   ],
   "source": [
    "sec_returns['PG'].std() * 250 ** 0.5"
   ]
  },
  {
   "cell_type": "markdown",
   "id": "aab5e166",
   "metadata": {},
   "source": [
    "## Beiersdorf"
   ]
  },
  {
   "cell_type": "code",
   "execution_count": 113,
   "id": "2b3cca56",
   "metadata": {},
   "outputs": [
    {
     "data": {
      "text/plain": [
       "0.0002402909582797827"
      ]
     },
     "execution_count": 113,
     "metadata": {},
     "output_type": "execute_result"
    }
   ],
   "source": [
    "sec_returns['BEI.DE'].mean()"
   ]
  },
  {
   "cell_type": "code",
   "execution_count": 114,
   "id": "1fff0d04",
   "metadata": {},
   "outputs": [
    {
     "data": {
      "text/plain": [
       "0.060072739569945674"
      ]
     },
     "execution_count": 114,
     "metadata": {},
     "output_type": "execute_result"
    }
   ],
   "source": [
    "sec_returns['BEI.DE'].mean() * 250"
   ]
  },
  {
   "cell_type": "code",
   "execution_count": 115,
   "id": "9bb137c5",
   "metadata": {
    "scrolled": true
   },
   "outputs": [
    {
     "data": {
      "text/plain": [
       "0.013566817600913234"
      ]
     },
     "execution_count": 115,
     "metadata": {},
     "output_type": "execute_result"
    }
   ],
   "source": [
    "sec_returns['BEI.DE'].std()"
   ]
  },
  {
   "cell_type": "code",
   "execution_count": 116,
   "id": "04b62668",
   "metadata": {},
   "outputs": [
    {
     "data": {
      "text/plain": [
       "0.21451022109473544"
      ]
     },
     "execution_count": 116,
     "metadata": {},
     "output_type": "execute_result"
    }
   ],
   "source": [
    "sec_returns['BEI.DE'].std() * 250 ** 0.5"
   ]
  },
  {
   "cell_type": "markdown",
   "id": "a6d3d327",
   "metadata": {},
   "source": [
    "## Results interpretation\n",
    "\n",
    "P&G → lower average return, lower volatility.\n",
    "\n",
    "Beiersdorf → higher average return, but also higher volatility.\n",
    "\n",
    "**Lesson:**\n",
    "\n",
    "Higher return often comes with higher risk."
   ]
  },
  {
   "cell_type": "markdown",
   "id": "1e8472a3",
   "metadata": {},
   "source": [
    "### Final result"
   ]
  },
  {
   "cell_type": "code",
   "execution_count": 117,
   "id": "f060ceb5",
   "metadata": {},
   "outputs": [
    {
     "name": "stdout",
     "output_type": "stream",
     "text": [
      "0.07766931255421519\n",
      "0.060072739569945674\n"
     ]
    }
   ],
   "source": [
    "print(sec_returns['PG'].mean() * 250)\n",
    "print(sec_returns['BEI.DE'].mean() * 250)"
   ]
  },
  {
   "cell_type": "code",
   "execution_count": null,
   "id": "03353473",
   "metadata": {},
   "outputs": [],
   "source": []
  },
  {
   "cell_type": "code",
   "execution_count": 118,
   "id": "3bcd1a8d",
   "metadata": {
    "scrolled": true
   },
   "outputs": [
    {
     "data": {
      "text/plain": [
       "PG        0.077669\n",
       "BEI.DE    0.060073\n",
       "dtype: float64"
      ]
     },
     "execution_count": 118,
     "metadata": {},
     "output_type": "execute_result"
    }
   ],
   "source": [
    "sec_returns[['PG', 'BEI.DE']].mean() * 250"
   ]
  },
  {
   "cell_type": "markdown",
   "id": "cd0f8674",
   "metadata": {},
   "source": [
    "### Combining results\n",
    "\n",
    "You can print results separately (one mean + std for PG, another for BEI).\n",
    "But if you want to **put them together** (in a matrix or table), you need to handle Python objects correctly:\n",
    "\n",
    "A **single pair of brackets** df['PG'] returns a **Series** (1D).\n",
    "\n",
    "A **double pair of brackets** df[['PG']] returns a **DataFrame** (2D).\n",
    "\n",
    "When you try to store results in NumPy arrays or do matrix operations, you need **2D objects.**"
   ]
  },
  {
   "cell_type": "code",
   "execution_count": 119,
   "id": "564a2925",
   "metadata": {},
   "outputs": [
    {
     "data": {
      "text/plain": [
       "PG        0.181985\n",
       "BEI.DE    0.214510\n",
       "dtype: float64"
      ]
     },
     "execution_count": 119,
     "metadata": {},
     "output_type": "execute_result"
    }
   ],
   "source": [
    "sec_returns[['PG', 'BEI.DE']].std() * 250 ** 0.5"
   ]
  },
  {
   "cell_type": "markdown",
   "id": "1ea31291",
   "metadata": {},
   "source": [
    "## Using Python to compute covariance & correlation \n",
    "instead of doing the math by hand"
   ]
  },
  {
   "cell_type": "markdown",
   "id": "23c3a17a",
   "metadata": {},
   "source": [
    "Covariance = raw measure of how two variables move together.\n",
    "\n",
    "Correlation = standardized version of covariance, easy to compare across datasets.\n",
    "\n",
    "In finance, correlation helps us understand whether stocks tend to move together (and how strongly)."
   ]
  },
  {
   "cell_type": "markdown",
   "id": "f69d1fb0",
   "metadata": {},
   "source": [
    "### Covariance Matrix\n",
    "\n",
    "    A covariance matrix shows how variables move together.\n",
    "\n",
    "   **On the diagonal →** the variance of each variable (since covariance with itself = variance).\n",
    "\n",
    "   **Off-diagonal cells →** the covariance between two different variables.\n",
    "   \n",
    "   \n",
    "   "
   ]
  },
  {
   "cell_type": "markdown",
   "id": "0012b5d2",
   "metadata": {},
   "source": [
    "### Covariance matrix of daily returns"
   ]
  },
  {
   "cell_type": "markdown",
   "id": "61298e17",
   "metadata": {},
   "source": [
    "\n",
    "\n",
    "\n",
    "\n",
    "\n",
    "\n",
    "\n",
    "\n",
    "\n",
    "\n",
    "\n",
    "\n",
    "\n",
    "\n",
    "\n",
    "\n",
    "\n",
    "\n",
    "\n",
    "\n",
    "\n",
    "\n",
    "\n",
    "\n",
    "\n",
    "\n",
    "\n",
    "\n",
    "\n",
    "\n",
    "\n",
    "\n",
    "\n",
    "\n",
    "\n",
    "\n",
    "\n",
    "\n",
    "\n",
    "\n",
    "\n",
    "\n",
    "\n",
    "\n",
    "\n",
    "\n",
    "\n",
    "\n",
    "\n",
    "\n",
    "\n",
    "\n",
    "\n",
    "\n",
    "\n",
    "\n",
    "\n",
    "\n",
    "\n",
    "\n",
    "\n",
    "\n",
    "\n",
    "\n",
    "\n",
    "\n",
    "\n",
    "\n",
    "\n",
    "\n",
    "\n",
    "\n",
    "\n",
    "\n",
    "\n",
    "\n",
    "\n",
    "\n",
    "\n",
    "\n",
    "\n",
    "\n",
    "\n",
    "\n",
    "\n",
    "\n",
    "\n",
    "\n",
    "\n",
    "\n",
    "\n",
    "\n",
    "\n",
    "\n",
    "\n",
    "\n",
    "\n",
    "\n",
    "\n",
    "\n",
    "\n",
    "\n",
    "\n",
    "\n",
    "\n",
    "\n",
    "\n",
    "\n",
    "\n",
    "\n",
    "\n",
    "\n",
    "\n",
    "\n"
   ]
  },
  {
   "cell_type": "markdown",
   "id": "f7081b0f",
   "metadata": {},
   "source": [
    "ovariance measures how **two variables move together**.\n",
    "\n",
    "\\[\n",
    "\\text{Cov}(X, Y) = \\frac{\\sum_{i=1}^{N} (X_i - \\bar{X})(Y_i - \\bar{Y})}{N - 1}\n",
    "\\]\n",
    "\n",
    "- \\(X_i\\) = value of variable \\(X\\)  \n",
    "- \\(Y_i\\) = value of variable \\(Y\\)  \n",
    "- \\(\\bar{X}, \\bar{Y}\\) = means of \\(X\\) and \\(Y\\)  \n",
    "- \\(N\\) = number of observations  \n"
   ]
  },
  {
   "cell_type": "code",
   "execution_count": 120,
   "id": "db523f81",
   "metadata": {},
   "outputs": [
    {
     "data": {
      "text/plain": [
       "0.00013247483553025598"
      ]
     },
     "execution_count": 120,
     "metadata": {},
     "output_type": "execute_result"
    }
   ],
   "source": [
    "PG_var = sec_returns['PG'].var() \n",
    "PG_var"
   ]
  },
  {
   "cell_type": "code",
   "execution_count": 121,
   "id": "f7f81904",
   "metadata": {},
   "outputs": [
    {
     "data": {
      "text/plain": [
       "0.00018405853981644913"
      ]
     },
     "execution_count": 121,
     "metadata": {},
     "output_type": "execute_result"
    }
   ],
   "source": [
    "BEI_var = sec_returns['BEI.DE'].var() \n",
    "BEI_var"
   ]
  },
  {
   "cell_type": "markdown",
   "id": "7ad231c9",
   "metadata": {},
   "source": [
    "#### Annualized"
   ]
  },
  {
   "cell_type": "code",
   "execution_count": 122,
   "id": "5a14997a",
   "metadata": {},
   "outputs": [
    {
     "data": {
      "text/plain": [
       "0.033118708882564"
      ]
     },
     "execution_count": 122,
     "metadata": {},
     "output_type": "execute_result"
    }
   ],
   "source": [
    "PG_var_a = sec_returns['PG'].var() * 250\n",
    "PG_var_a"
   ]
  },
  {
   "cell_type": "code",
   "execution_count": 123,
   "id": "612bb97e",
   "metadata": {},
   "outputs": [
    {
     "data": {
      "text/plain": [
       "0.04601463495411228"
      ]
     },
     "execution_count": 123,
     "metadata": {},
     "output_type": "execute_result"
    }
   ],
   "source": [
    "BEI_var_a = sec_returns['BEI.DE'].var() * 250\n",
    "BEI_var_a"
   ]
  },
  {
   "cell_type": "code",
   "execution_count": 124,
   "id": "d2e27712",
   "metadata": {},
   "outputs": [
    {
     "data": {
      "text/html": [
       "<div>\n",
       "<style scoped>\n",
       "    .dataframe tbody tr th:only-of-type {\n",
       "        vertical-align: middle;\n",
       "    }\n",
       "\n",
       "    .dataframe tbody tr th {\n",
       "        vertical-align: top;\n",
       "    }\n",
       "\n",
       "    .dataframe thead th {\n",
       "        text-align: right;\n",
       "    }\n",
       "</style>\n",
       "<table border=\"1\" class=\"dataframe\">\n",
       "  <thead>\n",
       "    <tr style=\"text-align: right;\">\n",
       "      <th></th>\n",
       "      <th>PG</th>\n",
       "      <th>BEI.DE</th>\n",
       "    </tr>\n",
       "  </thead>\n",
       "  <tbody>\n",
       "    <tr>\n",
       "      <th>PG</th>\n",
       "      <td>0.000132</td>\n",
       "      <td>0.000040</td>\n",
       "    </tr>\n",
       "    <tr>\n",
       "      <th>BEI.DE</th>\n",
       "      <td>0.000040</td>\n",
       "      <td>0.000184</td>\n",
       "    </tr>\n",
       "  </tbody>\n",
       "</table>\n",
       "</div>"
      ],
      "text/plain": [
       "              PG    BEI.DE\n",
       "PG      0.000132  0.000040\n",
       "BEI.DE  0.000040  0.000184"
      ]
     },
     "execution_count": 124,
     "metadata": {},
     "output_type": "execute_result"
    }
   ],
   "source": [
    "cov_matrix = sec_returns.cov()\n",
    "cov_matrix"
   ]
  },
  {
   "cell_type": "code",
   "execution_count": 125,
   "id": "a201a043",
   "metadata": {},
   "outputs": [
    {
     "data": {
      "text/html": [
       "<div>\n",
       "<style scoped>\n",
       "    .dataframe tbody tr th:only-of-type {\n",
       "        vertical-align: middle;\n",
       "    }\n",
       "\n",
       "    .dataframe tbody tr th {\n",
       "        vertical-align: top;\n",
       "    }\n",
       "\n",
       "    .dataframe thead th {\n",
       "        text-align: right;\n",
       "    }\n",
       "</style>\n",
       "<table border=\"1\" class=\"dataframe\">\n",
       "  <thead>\n",
       "    <tr style=\"text-align: right;\">\n",
       "      <th></th>\n",
       "      <th>PG</th>\n",
       "      <th>BEI.DE</th>\n",
       "    </tr>\n",
       "  </thead>\n",
       "  <tbody>\n",
       "    <tr>\n",
       "      <th>PG</th>\n",
       "      <td>0.033119</td>\n",
       "      <td>0.009952</td>\n",
       "    </tr>\n",
       "    <tr>\n",
       "      <th>BEI.DE</th>\n",
       "      <td>0.009952</td>\n",
       "      <td>0.046015</td>\n",
       "    </tr>\n",
       "  </tbody>\n",
       "</table>\n",
       "</div>"
      ],
      "text/plain": [
       "              PG    BEI.DE\n",
       "PG      0.033119  0.009952\n",
       "BEI.DE  0.009952  0.046015"
      ]
     },
     "execution_count": 125,
     "metadata": {},
     "output_type": "execute_result"
    }
   ],
   "source": [
    "cov_matrix_a = sec_returns.cov() * 250\n",
    "cov_matrix_a"
   ]
  },
  {
   "cell_type": "code",
   "execution_count": 126,
   "id": "0cd0f3d4",
   "metadata": {},
   "outputs": [
    {
     "data": {
      "text/html": [
       "<div>\n",
       "<style scoped>\n",
       "    .dataframe tbody tr th:only-of-type {\n",
       "        vertical-align: middle;\n",
       "    }\n",
       "\n",
       "    .dataframe tbody tr th {\n",
       "        vertical-align: top;\n",
       "    }\n",
       "\n",
       "    .dataframe thead th {\n",
       "        text-align: right;\n",
       "    }\n",
       "</style>\n",
       "<table border=\"1\" class=\"dataframe\">\n",
       "  <thead>\n",
       "    <tr style=\"text-align: right;\">\n",
       "      <th></th>\n",
       "      <th>PG</th>\n",
       "      <th>BEI.DE</th>\n",
       "    </tr>\n",
       "  </thead>\n",
       "  <tbody>\n",
       "    <tr>\n",
       "      <th>PG</th>\n",
       "      <td>1.000000</td>\n",
       "      <td>0.254434</td>\n",
       "    </tr>\n",
       "    <tr>\n",
       "      <th>BEI.DE</th>\n",
       "      <td>0.254434</td>\n",
       "      <td>1.000000</td>\n",
       "    </tr>\n",
       "  </tbody>\n",
       "</table>\n",
       "</div>"
      ],
      "text/plain": [
       "              PG    BEI.DE\n",
       "PG      1.000000  0.254434\n",
       "BEI.DE  0.254434  1.000000"
      ]
     },
     "execution_count": 126,
     "metadata": {},
     "output_type": "execute_result"
    }
   ],
   "source": [
    "corr_matrix = sec_returns.corr()\n",
    "corr_matrix"
   ]
  },
  {
   "cell_type": "markdown",
   "id": "23bd6074",
   "metadata": {},
   "source": [
    "### Result\n",
    "Diagonal = 1 (a stock is perfectly correlated with itself).\n",
    "\n",
    "Off-diagonal = correlation between PG and Beiersdorf returns (usually a small positive number, not too strong)."
   ]
  },
  {
   "cell_type": "code",
   "execution_count": null,
   "id": "dfa16112",
   "metadata": {},
   "outputs": [],
   "source": []
  },
  {
   "cell_type": "markdown",
   "id": "9ce93731",
   "metadata": {},
   "source": [
    "### This looks like Algebra (A+B)²"
   ]
  },
  {
   "cell_type": "markdown",
   "id": "9389a7ab",
   "metadata": {},
   "source": [
    "\\\\[\n",
    "(A + B)^2 = A^2 + 2AB + B^2\n",
    "\\\\]\n",
    "\n",
    "\\\\[\n",
    "w_1 + w_2 = 1\n",
    "\\\\]\n"
   ]
  },
  {
   "cell_type": "markdown",
   "id": "a82d02af",
   "metadata": {},
   "source": [
    "### The Formula\n",
    "\n",
    "For two stocks (Stock 1 and Stock 2), portfolio variance is:"
   ]
  },
  {
   "cell_type": "markdown",
   "id": "c32d410e",
   "metadata": {},
   "source": [
    "\\\\[\n",
    "\\sigma_p^2 = w_1^2 \\sigma_1^2 + w_2^2 \\sigma_2^2 + 2w_1 w_2 \\text{Cov}(r_1, r_2)\n",
    "\\\\]\n"
   ]
  },
  {
   "cell_type": "code",
   "execution_count": null,
   "id": "d2f79fa6",
   "metadata": {},
   "outputs": [],
   "source": []
  },
  {
   "cell_type": "markdown",
   "id": "e345dabe",
   "metadata": {},
   "source": [
    "Covariance measures how **two variables move together**.\n",
    "\n",
    "**Formula:**\n"
   ]
  },
  {
   "cell_type": "markdown",
   "id": "bb2183c8",
   "metadata": {},
   "source": [
    "\\\\[\n",
    "{Cov}(r_1, r_2) = \\rho_{12}*\\sigma_1*\\sigma_2\n",
    "\\\\]\n"
   ]
  },
  {
   "cell_type": "markdown",
   "id": "31d6fb49",
   "metadata": {},
   "source": [
    "Correlation is a **standardized version of covariance**, so the value always lies between **-1 and +1**.\n",
    "\n",
    "**Formula:**"
   ]
  },
  {
   "cell_type": "markdown",
   "id": "d33cdd2b",
   "metadata": {},
   "source": [
    "\\\\[\n",
    "\\text{Corr}(X, Y) = \\frac{\\text{Cov}(X, Y)}{\\sigma_X \\cdot \\sigma_Y}\n",
    "\\\\]\n",
    "\n",
    "where:\n",
    "\n",
    "- \\\\(\\text{Cov}(X,Y)\\) = covariance of \\(X\\) and \\(Y\\\\) \n",
    "\n",
    "- \\\\(\\sigma_X, \\sigma_Y\\) = standard deviations of \\(X\\) and \\(Y\\\\)  "
   ]
  },
  {
   "cell_type": "markdown",
   "id": "685cf06c",
   "metadata": {},
   "source": [
    "**NOTE**\n",
    "\n",
    "**\\text{Corr}(X, Y) →** writes “Corr(X, Y)” as normal text in math mode.\n",
    "\n",
    "**\\frac{ ... }{ ... } →** fraction with numerator and denominator.\n",
    "\n",
    "**\\text{Cov}(X,Y) →** writes “Cov(X,Y)” as normal text.\n",
    "\n",
    "**\\sigma_X \\cdot \\sigma_Y →** σₓ × σᵧ, using Greek letters and multiplication.\n",
    "\n",
    "**\\[ ... \\] →**  centers the equation on its own line."
   ]
  },
  {
   "cell_type": "markdown",
   "id": "9e1c34be",
   "metadata": {},
   "source": [
    "## 1. Portfolio Weights\n",
    "\n",
    "I took a portfolio with two stocks: P&G and Beiersdorf.\n",
    "\n",
    "Portfolio is equally weighted, you invest 50% in P&G and 50% in Beiersdorf.\n"
   ]
  },
  {
   "cell_type": "code",
   "execution_count": 127,
   "id": "259b1b52",
   "metadata": {},
   "outputs": [],
   "source": [
    "weights = np.array([0.5, 0.5])\n",
    "#Here, weights is a vector representing the proportion of money allocated to each stock.\n",
    "\n"
   ]
  },
  {
   "cell_type": "markdown",
   "id": "870ec094",
   "metadata": {},
   "source": [
    "### 2. Covariance Matrix\n",
    "\n",
    "Each stock has variance (its individual risk) and covariance (how they move relative to each other).\n",
    "\n",
    "For two stocks, the covariance matrix looks like this:"
   ]
  },
  {
   "cell_type": "markdown",
   "id": "bb6f7d5d",
   "metadata": {},
   "source": [
    "\\\\[\n",
    "\\mathbf{\\Sigma} =\n",
    "\\begin{bmatrix}\n",
    "\\sigma_{\\text{PG}}^2 & \\text{Cov}(r_{\\text{PG}}, r_{\\text{Beiersdorf}}) \\\\\n",
    "\\text{Cov}(r_{\\text{Beiersdorf}}, r_{\\text{PG}}) & \\sigma_{\\text{Beiersdorf}}^2\n",
    "\\end{bmatrix}\n",
    "\\\\]\n"
   ]
  },
  {
   "cell_type": "markdown",
   "id": "0ce20e52",
   "metadata": {},
   "source": [
    "### 3. Portfolio Variance Formula\n",
    "\n",
    "Mathematically, for a portfolio of two assets:"
   ]
  },
  {
   "cell_type": "markdown",
   "id": "814aa174",
   "metadata": {},
   "source": [
    "\\\\[\n",
    "\\sigma_p^2 =\n",
    "\\begin{bmatrix} 0.5 & 0.5 \\end{bmatrix}\n",
    "\\begin{bmatrix}\n",
    "\\sigma_{\\text{PG}}^2 & \\text{Cov}(r_{\\text{PG}}, r_{\\text{Beiersdorf}}) \\\\\n",
    "\\text{Cov}(r_{\\text{Beiersdorf}}, r_{\\text{PG}}) & \\sigma_{\\text{Beiersdorf}}^2\n",
    "\\end{bmatrix}\n",
    "\\begin{bmatrix} 0.5 \\\\ 0.5 \\end{bmatrix}\n",
    "\\\\]\n"
   ]
  },
  {
   "cell_type": "code",
   "execution_count": 128,
   "id": "a8cd748d",
   "metadata": {},
   "outputs": [
    {
     "data": {
      "text/plain": [
       "0.024759499233232663"
      ]
     },
     "execution_count": 128,
     "metadata": {},
     "output_type": "execute_result"
    }
   ],
   "source": [
    "pfolio_var = np.dot(weights.T, np.dot(sec_returns.cov() * 250, weights))\n",
    "pfolio_var"
   ]
  },
  {
   "cell_type": "markdown",
   "id": "b3bd05ec",
   "metadata": {},
   "source": [
    "### 4. Using NumPy for Matrix Multiplication\n",
    "\n",
    "NumPy provides the dot product to implement this formula:"
   ]
  },
  {
   "cell_type": "code",
   "execution_count": null,
   "id": "acec524a",
   "metadata": {},
   "outputs": [],
   "source": []
  },
  {
   "cell_type": "markdown",
   "id": "d04b0a52",
   "metadata": {},
   "source": [
    "### 5. Portfolio Volatility\n",
    "\n",
    "Volatility = standard deviation, which is the square root of variance:"
   ]
  },
  {
   "cell_type": "markdown",
   "id": "8b19fd24",
   "metadata": {},
   "source": [
    "\\\\[\n",
    "\\sigma_p = \\sqrt{\n",
    "\\begin{bmatrix} 0.5 & 0.5 \\end{bmatrix}\n",
    "\\begin{bmatrix}\n",
    "\\sigma_{\\text{PG}}^2 & \\text{Cov}(r_{\\text{PG}}, r_{\\text{Beiersdorf}}) \\\\\n",
    "\\text{Cov}(r_{\\text{Beiersdorf}}, r_{\\text{PG}}) & \\sigma_{\\text{Beiersdorf}}^2\n",
    "\\end{bmatrix}\n",
    "\\begin{bmatrix} 0.5 \\\\ 0.5 \\end{bmatrix}\n",
    "}\n",
    "\\\\]\n"
   ]
  },
  {
   "cell_type": "code",
   "execution_count": 129,
   "id": "2afa9230",
   "metadata": {},
   "outputs": [
    {
     "data": {
      "text/plain": [
       "0.15735151487428606"
      ]
     },
     "execution_count": 129,
     "metadata": {},
     "output_type": "execute_result"
    }
   ],
   "source": [
    "pfolio_vol = (np.dot(weights.T, np.dot(sec_returns.cov() * 250, weights))) ** 0.5\n",
    "pfolio_vol"
   ]
  },
  {
   "cell_type": "code",
   "execution_count": 130,
   "id": "d2ed1d96",
   "metadata": {},
   "outputs": [
    {
     "name": "stdout",
     "output_type": "stream",
     "text": [
      "15.735 %\n"
     ]
    }
   ],
   "source": [
    "print(str(round(pfolio_vol, 5) * 100) + ' %')"
   ]
  },
  {
   "cell_type": "markdown",
   "id": "880e27e0",
   "metadata": {},
   "source": [
    "## Portfolio Risk Components\n",
    "\n",
    "    A portfolio’s total risk (variance or volatility) can be seen as made of two parts:\n",
    "\n",
    "    Variance of individual securities – the inherent variability of each stock.\n",
    "\n",
    "    Covariance between securities – how stocks move relative to one another."
   ]
  },
  {
   "cell_type": "markdown",
   "id": "8d55108f",
   "metadata": {},
   "source": [
    "**2. Systematic Risk (Market Risk)**\n",
    "\n",
    "**Definition:** Risk that affects all stocks in the market.\n",
    "\n",
    "Cause: Macroeconomic events like recessions, wars, natural disasters, changes in interest rates, or a global pandemic.\n",
    "\n",
    "Key Point: You cannot eliminate systematic risk through diversification. It is inherent to the market.\n",
    "\n",
    "Example: If a recession hits, almost all companies’ stock prices fall—no matter which industry.\n",
    "\n",
    "**3. Unsystematic Risk (Idiosyncratic Risk)**\n",
    "\n",
    "**Definition:** Risk that is specific to a company or industry.\n",
    "\n",
    "Cause: Company-specific events like poor management decisions, product recalls, or industry-specific issues.\n",
    "\n",
    "Key Point: This risk can be reduced or almost eliminated by diversification.\n",
    "\n",
    "Example: A tech stock underperforms due to a software bug, but your other investments in unrelated sectors aren’t affected."
   ]
  },
  {
   "cell_type": "markdown",
   "id": "95b77990",
   "metadata": {},
   "source": [
    "## Diversification Effect\n",
    "\n",
    "By holding many stocks in a portfolio (25–30 or more), especially uncorrelated stocks, unsystematic risk can nearly disappear."
   ]
  },
  {
   "cell_type": "markdown",
   "id": "cfef93e5",
   "metadata": {},
   "source": [
    "#### Why This Matters\n",
    "\n",
    "Understanding the difference between systematic and unsystematic risk helps investors manage risk effectively."
   ]
  },
  {
   "cell_type": "markdown",
   "id": "9cdcb085",
   "metadata": {},
   "source": [
    "## Calculating Diversifiable and Non-Diversifiable Risk of a Portfolio"
   ]
  },
  {
   "cell_type": "markdown",
   "id": "6084461c",
   "metadata": {},
   "source": [
    "### Diversifiable Risk:"
   ]
  },
  {
   "cell_type": "markdown",
   "id": "a321b07a",
   "metadata": {},
   "source": [
    "### 1. Portfolio Weights"
   ]
  },
  {
   "cell_type": "code",
   "execution_count": 131,
   "id": "208395b9",
   "metadata": {},
   "outputs": [],
   "source": [
    "weights = np.array([0.5, 0.5])\n"
   ]
  },
  {
   "cell_type": "code",
   "execution_count": 132,
   "id": "036489e9",
   "metadata": {},
   "outputs": [
    {
     "data": {
      "text/plain": [
       "0.5"
      ]
     },
     "execution_count": 132,
     "metadata": {},
     "output_type": "execute_result"
    }
   ],
   "source": [
    "weights[0]"
   ]
  },
  {
   "cell_type": "code",
   "execution_count": 133,
   "id": "53e51aa0",
   "metadata": {},
   "outputs": [
    {
     "data": {
      "text/plain": [
       "0.5"
      ]
     },
     "execution_count": 133,
     "metadata": {},
     "output_type": "execute_result"
    }
   ],
   "source": [
    "weights[1]"
   ]
  },
  {
   "cell_type": "markdown",
   "id": "b5ab39b3",
   "metadata": {},
   "source": [
    "### 2. Portfolio Variance"
   ]
  },
  {
   "cell_type": "code",
   "execution_count": 134,
   "id": "acea41dc",
   "metadata": {},
   "outputs": [
    {
     "data": {
      "text/plain": [
       "PG    0.033119\n",
       "dtype: float64"
      ]
     },
     "execution_count": 134,
     "metadata": {},
     "output_type": "execute_result"
    }
   ],
   "source": [
    "PG_var_a = sec_returns[['PG']].var() * 250\n",
    "PG_var_a"
   ]
  },
  {
   "cell_type": "code",
   "execution_count": 135,
   "id": "e18a26bf",
   "metadata": {},
   "outputs": [
    {
     "data": {
      "text/plain": [
       "BEI.DE    0.046015\n",
       "dtype: float64"
      ]
     },
     "execution_count": 135,
     "metadata": {},
     "output_type": "execute_result"
    }
   ],
   "source": [
    "BEI_var_a = sec_returns[['BEI.DE']].var() * 250\n",
    "BEI_var_a"
   ]
  },
  {
   "cell_type": "code",
   "execution_count": 136,
   "id": "193fa4e8",
   "metadata": {},
   "outputs": [
    {
     "data": {
      "text/plain": [
       "BEI.DE   NaN\n",
       "PG       NaN\n",
       "dtype: float64"
      ]
     },
     "execution_count": 136,
     "metadata": {},
     "output_type": "execute_result"
    }
   ],
   "source": [
    "dr = pfolio_var - (weights[0] ** 2 * PG_var_a) - (weights[1] ** 2 * BEI_var_a)\n",
    "dr"
   ]
  },
  {
   "cell_type": "code",
   "execution_count": 137,
   "id": "11a5b9b0",
   "metadata": {},
   "outputs": [
    {
     "name": "stderr",
     "output_type": "stream",
     "text": [
      "C:\\Users\\Rohit Kumar\\AppData\\Local\\Temp\\ipykernel_24472\\2706030445.py:1: FutureWarning: Calling float on a single element Series is deprecated and will raise a TypeError in the future. Use float(ser.iloc[0]) instead\n",
      "  float(PG_var_a)\n"
     ]
    },
    {
     "data": {
      "text/plain": [
       "0.033118708882564"
      ]
     },
     "execution_count": 137,
     "metadata": {},
     "output_type": "execute_result"
    }
   ],
   "source": [
    "float(PG_var_a)"
   ]
  },
  {
   "cell_type": "code",
   "execution_count": 138,
   "id": "a7aec7af",
   "metadata": {},
   "outputs": [
    {
     "data": {
      "text/plain": [
       "0.033118708882564"
      ]
     },
     "execution_count": 138,
     "metadata": {},
     "output_type": "execute_result"
    }
   ],
   "source": [
    "PG_var_a = sec_returns['PG'].var() * 250\n",
    "PG_var_a"
   ]
  },
  {
   "cell_type": "code",
   "execution_count": 139,
   "id": "1ca716a3",
   "metadata": {},
   "outputs": [
    {
     "data": {
      "text/plain": [
       "0.04601463495411228"
      ]
     },
     "execution_count": 139,
     "metadata": {},
     "output_type": "execute_result"
    }
   ],
   "source": [
    "BEI_var_a = sec_returns['BEI.DE'].var() * 250\n",
    "BEI_var_a"
   ]
  },
  {
   "cell_type": "code",
   "execution_count": 140,
   "id": "458a4470",
   "metadata": {},
   "outputs": [
    {
     "data": {
      "text/plain": [
       "0.004976163274063592"
      ]
     },
     "execution_count": 140,
     "metadata": {},
     "output_type": "execute_result"
    }
   ],
   "source": [
    "dr = pfolio_var - (weights[0] ** 2 * PG_var_a) - (weights[1] ** 2 * BEI_var_a)\n",
    "dr"
   ]
  },
  {
   "cell_type": "code",
   "execution_count": 141,
   "id": "b62771f1",
   "metadata": {},
   "outputs": [
    {
     "name": "stdout",
     "output_type": "stream",
     "text": [
      "0.498 %\n"
     ]
    }
   ],
   "source": [
    "print(str(round(dr*100, 3)) + ' %')"
   ]
  },
  {
   "cell_type": "markdown",
   "id": "9b2ffe5c",
   "metadata": {},
   "source": [
    "## Non- Diversifiable Risk"
   ]
  },
  {
   "cell_type": "code",
   "execution_count": 142,
   "id": "e048cef2",
   "metadata": {},
   "outputs": [
    {
     "data": {
      "text/plain": [
       "0.01978333595916907"
      ]
     },
     "execution_count": 142,
     "metadata": {},
     "output_type": "execute_result"
    }
   ],
   "source": [
    "n_dr_1 = pfolio_var - dr\n",
    "n_dr_1"
   ]
  },
  {
   "cell_type": "code",
   "execution_count": 143,
   "id": "98b009de",
   "metadata": {},
   "outputs": [
    {
     "data": {
      "text/plain": [
       "0.01978333595916907"
      ]
     },
     "execution_count": 143,
     "metadata": {},
     "output_type": "execute_result"
    }
   ],
   "source": [
    "n_dr_2 = (weights[0] ** 2 * PG_var_a) + (weights[1] ** 2 * BEI_var_a)\n",
    "n_dr_2"
   ]
  },
  {
   "cell_type": "code",
   "execution_count": 144,
   "id": "fe1f10d0",
   "metadata": {},
   "outputs": [
    {
     "data": {
      "text/plain": [
       "True"
      ]
     },
     "execution_count": 144,
     "metadata": {},
     "output_type": "execute_result"
    }
   ],
   "source": [
    "n_dr_1 == n_dr_2"
   ]
  }
 ],
 "metadata": {
  "kernelspec": {
   "display_name": "Python 3 (ipykernel)",
   "language": "python",
   "name": "python3"
  },
  "language_info": {
   "codemirror_mode": {
    "name": "ipython",
    "version": 3
   },
   "file_extension": ".py",
   "mimetype": "text/x-python",
   "name": "python",
   "nbconvert_exporter": "python",
   "pygments_lexer": "ipython3",
   "version": "3.11.5"
  }
 },
 "nbformat": 4,
 "nbformat_minor": 5
}
